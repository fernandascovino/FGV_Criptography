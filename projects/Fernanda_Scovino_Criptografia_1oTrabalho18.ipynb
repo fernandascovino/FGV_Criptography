{
 "cells": [
  {
   "cell_type": "markdown",
   "metadata": {},
   "source": [
    "## Primeiro Trabalho Computacional: Álgebra, Números e Criptografia 2018\n",
    "\n",
    "### Fernanda Scovino\n",
    "\n",
    "**Data: 29/09/18**\n",
    "\n",
    "\n",
    "Resolução dos problemas de implementação do livro *Números inteiros e criptografia RSA - Coutinho, S. C. IMPA, 2014 - 2ª edição*, do cap. 1 ao 6.\n",
    "\n",
    "---\n",
    "\n",
    "#### Índice de exercícios:\n",
    "\n",
    "* [Capítulo 1: Algoritmos Fundamentais](#Capítulo-1:-Algoritmos-Fundamentais)\n",
    "* [Capítulo 2: Fatoração Única](#Capítulo-2:-Fatoração-Única)\n",
    "* [Capítulo 3: Números Primos](#Capítulo-3:-Números-Primos)\n",
    "* [Capítulo 4: Aritmética Modular](#Capítulo-4:-Aritmética-Modular)\n",
    "* [Capítulo 5: Indução e Fermat](#Capítulo-5:-Indução-e-Fermat)\n",
    "* [Capítulo 6: Pseudoprimos](#Capítulo-6:-Pseudoprimos)"
   ]
  },
  {
   "cell_type": "markdown",
   "metadata": {},
   "source": [
    "#### Pacotes auxiliares:"
   ]
  },
  {
   "cell_type": "code",
   "execution_count": 247,
   "metadata": {},
   "outputs": [],
   "source": [
    "import matplotlib.pyplot as plt\n",
    "import numpy as np\n",
    "from pandas import DataFrame\n",
    "from itertools import combinations"
   ]
  },
  {
   "cell_type": "markdown",
   "metadata": {},
   "source": [
    "### Capítulo 1: Algoritmos Fundamentais"
   ]
  },
  {
   "cell_type": "markdown",
   "metadata": {},
   "source": [
    "#### Exercício 9:\n",
    "\n",
    "Sejam $a, b \\in \\mathbb{Z}$. O máximo divisor comum (mdc) entre $a$ e $b$ é definido como $d = máx\\{d \\in \\mathbb{Z} : d|a, d|b\\}$.\n",
    "\n",
    "O **algoritmo euclidiano** (implementado abaixo) calcula o $mdc(a,b)$ de forma recursiva, descrita abaixo:\n",
    "\n",
    "Sejam $r, q \\in \\mathbb{Z} : a = bq + r$.\n",
    "* Se r = 0, então $mdc(a,b) = b$\n",
    "* Caso contrário, $mdc(a,b) = mdc(r,a)$\n",
    "\n",
    "Ele se baseia em dois teoremas, provados em sala (e também no livro):\n",
    "\n",
    "(i) Sejam $a, b \\in \\mathbb{Z}_+$. Logo, existem $r, q \\in \\mathbb{Z} : a = bq + r$, e $q,r$ são únicos (*teorema da divisão*)\n",
    "\n",
    "(ii) Sejam $a, b, r, q \\in \\mathbb{Z}_+$, e $a = bq + r$. Logo, $mdc(r,b) = mdc(b, a)$."
   ]
  },
  {
   "cell_type": "code",
   "execution_count": 4,
   "metadata": {},
   "outputs": [],
   "source": [
    "def mdc(a, b):\n",
    "    \n",
    "    \"\"\"\n",
    "    Calcula o máximo divisor comum (mdc) entre os inteiros a e b pelo algoritmo de euclidiano.\n",
    "    \n",
    "    :param a: inteiro\n",
    "    :param b: inteiro\n",
    "    \n",
    "    :return m: mdc entre a e b\n",
    "    \"\"\"\n",
    "    \n",
    "    if b % a == 0:\n",
    "        \n",
    "        return a\n",
    "    \n",
    "    else: \n",
    "        \n",
    "        r = a\n",
    "        while b % r != 0:\n",
    "\n",
    "            a = b % r\n",
    "            b = r\n",
    "            r = a\n",
    "        \n",
    "        return r"
   ]
  },
  {
   "cell_type": "code",
   "execution_count": 5,
   "metadata": {},
   "outputs": [
    {
     "data": {
      "text/plain": [
       "68"
      ]
     },
     "execution_count": 5,
     "metadata": {},
     "output_type": "execute_result"
    }
   ],
   "source": [
    "a = 68*3*5*5*13\n",
    "b = 68*2*7*11\n",
    "\n",
    "mdc(a,b)"
   ]
  },
  {
   "cell_type": "code",
   "execution_count": 6,
   "metadata": {},
   "outputs": [],
   "source": [
    "import numpy as np"
   ]
  },
  {
   "cell_type": "code",
   "execution_count": 7,
   "metadata": {},
   "outputs": [],
   "source": [
    "def mdc_adaptado(n):\n",
    "    \n",
    "    \"\"\"\n",
    "    Calcula o máximo divisor comum (mdc) de n pares aleatórios de inteiros, e retorna a razão de co-primos gerada.\n",
    "    \n",
    "    :param n: número de pares a serem gerados\n",
    "    \n",
    "    :return r: razão entre total de co-primos e total de pares gerados\n",
    "    \"\"\"\n",
    "    \n",
    "    r = 0\n",
    "    \n",
    "    for i in range(n):\n",
    "        \n",
    "        a = np.random.randint(1,10000)\n",
    "        b = np.random.randint(1,10000)\n",
    "    \n",
    "        d = mdc(a,b)\n",
    "        \n",
    "        if d == 1:\n",
    "            \n",
    "            r += 1\n",
    "            \n",
    "    return r/n"
   ]
  },
  {
   "cell_type": "code",
   "execution_count": 8,
   "metadata": {},
   "outputs": [
    {
     "name": "stdout",
     "output_type": "stream",
     "text": [
      "CPU times: user 10.7 s, sys: 24 ms, total: 10.7 s\n",
      "Wall time: 10.8 s\n"
     ]
    }
   ],
   "source": [
    "%%time\n",
    "M = np.zeros([5,10])\n",
    "\n",
    "for i in range(5):\n",
    "    for j in range(10):\n",
    "        \n",
    "        n = i+1\n",
    "        M[i,j] = mdc_adaptado(10**n)"
   ]
  },
  {
   "cell_type": "markdown",
   "metadata": {},
   "source": [
    "As razões obtidas com os experimentos foram:"
   ]
  },
  {
   "cell_type": "code",
   "execution_count": 9,
   "metadata": {},
   "outputs": [
    {
     "data": {
      "text/html": [
       "<div>\n",
       "<style scoped>\n",
       "    .dataframe tbody tr th:only-of-type {\n",
       "        vertical-align: middle;\n",
       "    }\n",
       "\n",
       "    .dataframe tbody tr th {\n",
       "        vertical-align: top;\n",
       "    }\n",
       "\n",
       "    .dataframe thead th {\n",
       "        text-align: right;\n",
       "    }\n",
       "</style>\n",
       "<table border=\"1\" class=\"dataframe\">\n",
       "  <thead>\n",
       "    <tr style=\"text-align: right;\">\n",
       "      <th></th>\n",
       "      <th>#1</th>\n",
       "      <th>#2</th>\n",
       "      <th>#3</th>\n",
       "      <th>#4</th>\n",
       "      <th>#5</th>\n",
       "      <th>#6</th>\n",
       "      <th>#7</th>\n",
       "      <th>#8</th>\n",
       "      <th>#9</th>\n",
       "      <th>#10</th>\n",
       "    </tr>\n",
       "  </thead>\n",
       "  <tbody>\n",
       "    <tr>\n",
       "      <th>10</th>\n",
       "      <td>0.80000</td>\n",
       "      <td>0.30000</td>\n",
       "      <td>0.70000</td>\n",
       "      <td>0.70000</td>\n",
       "      <td>0.80000</td>\n",
       "      <td>0.60000</td>\n",
       "      <td>0.60000</td>\n",
       "      <td>0.70000</td>\n",
       "      <td>0.80000</td>\n",
       "      <td>0.70000</td>\n",
       "    </tr>\n",
       "    <tr>\n",
       "      <th>100</th>\n",
       "      <td>0.68000</td>\n",
       "      <td>0.68000</td>\n",
       "      <td>0.57000</td>\n",
       "      <td>0.64000</td>\n",
       "      <td>0.64000</td>\n",
       "      <td>0.66000</td>\n",
       "      <td>0.60000</td>\n",
       "      <td>0.57000</td>\n",
       "      <td>0.67000</td>\n",
       "      <td>0.57000</td>\n",
       "    </tr>\n",
       "    <tr>\n",
       "      <th>1000</th>\n",
       "      <td>0.60100</td>\n",
       "      <td>0.60200</td>\n",
       "      <td>0.62400</td>\n",
       "      <td>0.60900</td>\n",
       "      <td>0.62100</td>\n",
       "      <td>0.61300</td>\n",
       "      <td>0.59200</td>\n",
       "      <td>0.60100</td>\n",
       "      <td>0.58500</td>\n",
       "      <td>0.62200</td>\n",
       "    </tr>\n",
       "    <tr>\n",
       "      <th>10000</th>\n",
       "      <td>0.61260</td>\n",
       "      <td>0.60850</td>\n",
       "      <td>0.61100</td>\n",
       "      <td>0.61070</td>\n",
       "      <td>0.60960</td>\n",
       "      <td>0.60950</td>\n",
       "      <td>0.60850</td>\n",
       "      <td>0.59980</td>\n",
       "      <td>0.61110</td>\n",
       "      <td>0.61070</td>\n",
       "    </tr>\n",
       "    <tr>\n",
       "      <th>100000</th>\n",
       "      <td>0.60749</td>\n",
       "      <td>0.60682</td>\n",
       "      <td>0.60973</td>\n",
       "      <td>0.60627</td>\n",
       "      <td>0.60941</td>\n",
       "      <td>0.60697</td>\n",
       "      <td>0.60724</td>\n",
       "      <td>0.61008</td>\n",
       "      <td>0.60833</td>\n",
       "      <td>0.60754</td>\n",
       "    </tr>\n",
       "  </tbody>\n",
       "</table>\n",
       "</div>"
      ],
      "text/plain": [
       "             #1       #2       #3       #4       #5       #6       #7  \\\n",
       "10      0.80000  0.30000  0.70000  0.70000  0.80000  0.60000  0.60000   \n",
       "100     0.68000  0.68000  0.57000  0.64000  0.64000  0.66000  0.60000   \n",
       "1000    0.60100  0.60200  0.62400  0.60900  0.62100  0.61300  0.59200   \n",
       "10000   0.61260  0.60850  0.61100  0.61070  0.60960  0.60950  0.60850   \n",
       "100000  0.60749  0.60682  0.60973  0.60627  0.60941  0.60697  0.60724   \n",
       "\n",
       "             #8       #9      #10  \n",
       "10      0.70000  0.80000  0.70000  \n",
       "100     0.57000  0.67000  0.57000  \n",
       "1000    0.60100  0.58500  0.62200  \n",
       "10000   0.59980  0.61110  0.61070  \n",
       "100000  0.61008  0.60833  0.60754  "
      ]
     },
     "execution_count": 9,
     "metadata": {},
     "output_type": "execute_result"
    }
   ],
   "source": [
    "M = DataFrame(data=M, columns=['#{}'.format(i) for i in range(1,11)], index=[10**i for i in range(1,6)])\n",
    "M"
   ]
  },
  {
   "cell_type": "markdown",
   "metadata": {},
   "source": [
    "Seja $r$ a razão de co-primos sobre o número total de pares testado.\n",
    "Na questão é dito que, quando $n \\rightarrow \\infty$, temos $r \\rightarrow \\frac{6}{\\pi^2}$.\n",
    "\n",
    "Para verificar essa convergência, para valor $a_{ij}$ na tabela acima, a tabela abaixo contém a diferença $a_{ij} - \\frac{6}{\\pi^2}$."
   ]
  },
  {
   "cell_type": "code",
   "execution_count": 10,
   "metadata": {},
   "outputs": [
    {
     "data": {
      "text/html": [
       "<div>\n",
       "<style scoped>\n",
       "    .dataframe tbody tr th:only-of-type {\n",
       "        vertical-align: middle;\n",
       "    }\n",
       "\n",
       "    .dataframe tbody tr th {\n",
       "        vertical-align: top;\n",
       "    }\n",
       "\n",
       "    .dataframe thead th {\n",
       "        text-align: right;\n",
       "    }\n",
       "</style>\n",
       "<table border=\"1\" class=\"dataframe\">\n",
       "  <thead>\n",
       "    <tr style=\"text-align: right;\">\n",
       "      <th></th>\n",
       "      <th>#1</th>\n",
       "      <th>#2</th>\n",
       "      <th>#3</th>\n",
       "      <th>#4</th>\n",
       "      <th>#5</th>\n",
       "      <th>#6</th>\n",
       "      <th>#7</th>\n",
       "      <th>#8</th>\n",
       "      <th>#9</th>\n",
       "      <th>#10</th>\n",
       "    </tr>\n",
       "  </thead>\n",
       "  <tbody>\n",
       "    <tr>\n",
       "      <th>10</th>\n",
       "      <td>0.192073</td>\n",
       "      <td>-0.307927</td>\n",
       "      <td>0.092073</td>\n",
       "      <td>0.092073</td>\n",
       "      <td>0.192073</td>\n",
       "      <td>-0.007927</td>\n",
       "      <td>-0.007927</td>\n",
       "      <td>0.092073</td>\n",
       "      <td>0.192073</td>\n",
       "      <td>0.092073</td>\n",
       "    </tr>\n",
       "    <tr>\n",
       "      <th>100</th>\n",
       "      <td>0.072073</td>\n",
       "      <td>0.072073</td>\n",
       "      <td>-0.037927</td>\n",
       "      <td>0.032073</td>\n",
       "      <td>0.032073</td>\n",
       "      <td>0.052073</td>\n",
       "      <td>-0.007927</td>\n",
       "      <td>-0.037927</td>\n",
       "      <td>0.062073</td>\n",
       "      <td>-0.037927</td>\n",
       "    </tr>\n",
       "    <tr>\n",
       "      <th>1000</th>\n",
       "      <td>-0.006927</td>\n",
       "      <td>-0.005927</td>\n",
       "      <td>0.016073</td>\n",
       "      <td>0.001073</td>\n",
       "      <td>0.013073</td>\n",
       "      <td>0.005073</td>\n",
       "      <td>-0.015927</td>\n",
       "      <td>-0.006927</td>\n",
       "      <td>-0.022927</td>\n",
       "      <td>0.014073</td>\n",
       "    </tr>\n",
       "    <tr>\n",
       "      <th>10000</th>\n",
       "      <td>0.004673</td>\n",
       "      <td>0.000573</td>\n",
       "      <td>0.003073</td>\n",
       "      <td>0.002773</td>\n",
       "      <td>0.001673</td>\n",
       "      <td>0.001573</td>\n",
       "      <td>0.000573</td>\n",
       "      <td>-0.008127</td>\n",
       "      <td>0.003173</td>\n",
       "      <td>0.002773</td>\n",
       "    </tr>\n",
       "    <tr>\n",
       "      <th>100000</th>\n",
       "      <td>-0.000437</td>\n",
       "      <td>-0.001107</td>\n",
       "      <td>0.001803</td>\n",
       "      <td>-0.001657</td>\n",
       "      <td>0.001483</td>\n",
       "      <td>-0.000957</td>\n",
       "      <td>-0.000687</td>\n",
       "      <td>0.002153</td>\n",
       "      <td>0.000403</td>\n",
       "      <td>-0.000387</td>\n",
       "    </tr>\n",
       "  </tbody>\n",
       "</table>\n",
       "</div>"
      ],
      "text/plain": [
       "              #1        #2        #3        #4        #5        #6        #7  \\\n",
       "10      0.192073 -0.307927  0.092073  0.092073  0.192073 -0.007927 -0.007927   \n",
       "100     0.072073  0.072073 -0.037927  0.032073  0.032073  0.052073 -0.007927   \n",
       "1000   -0.006927 -0.005927  0.016073  0.001073  0.013073  0.005073 -0.015927   \n",
       "10000   0.004673  0.000573  0.003073  0.002773  0.001673  0.001573  0.000573   \n",
       "100000 -0.000437 -0.001107  0.001803 -0.001657  0.001483 -0.000957 -0.000687   \n",
       "\n",
       "              #8        #9       #10  \n",
       "10      0.092073  0.192073  0.092073  \n",
       "100    -0.037927  0.062073 -0.037927  \n",
       "1000   -0.006927 -0.022927  0.014073  \n",
       "10000  -0.008127  0.003173  0.002773  \n",
       "100000  0.002153  0.000403 -0.000387  "
      ]
     },
     "execution_count": 10,
     "metadata": {},
     "output_type": "execute_result"
    }
   ],
   "source": [
    "p = 6/(np.pi**2)\n",
    "\n",
    "S = (M - p)\n",
    "S"
   ]
  },
  {
   "cell_type": "markdown",
   "metadata": {},
   "source": [
    "Plotando essas diferenças, temos:"
   ]
  },
  {
   "cell_type": "code",
   "execution_count": 11,
   "metadata": {},
   "outputs": [
    {
     "data": {
      "text/plain": [
       "<matplotlib.axes._subplots.AxesSubplot at 0x7f6cafa834a8>"
      ]
     },
     "execution_count": 11,
     "metadata": {},
     "output_type": "execute_result"
    },
    {
     "data": {
      "image/png": "[encoded data removed]",
      "text/plain": [
       "<Figure size 432x288 with 1 Axes>"
      ]
     },
     "metadata": {},
     "output_type": "display_data"
    }
   ],
   "source": [
    "S.plot(legend=True)"
   ]
  },
  {
   "cell_type": "markdown",
   "metadata": {},
   "source": [
    "#### Exercicio 8:\n",
    "\n",
    "O **algoritmo de euclidiano estendido** (implementado abaixo), além de calcular $d = mdc(a,b)$, obtém $x, y \\in \\mathbb{Z} : ax+by = d$. \n",
    "\n",
    "A cada iteração do **algoritmo euclidiano**, acrescentamos alguns passos:\n",
    "\n",
    "* Iniciamos $x_a = 1, y_a = 0, x_b = 0, y_b = 1$\n",
    "\n",
    "Sejam $r, q \\in \\mathbb{Z} : a = bq + r$.\n",
    "* Se $r = 0$, então $mdc(a,b) = b$, e $x = x_b, y = y_b$\n",
    "* Caso contrário, $mdc(a,b) = mdc(r,a)$\n",
    "* Atualizamos:\n",
    " * $x_a, x_b = x_b, x_a - qx_b$\n",
    " * $y_a, y_b = y_b, y_a - qy_b$\n",
    " \n",
    "A equação $x, y \\in \\mathbb{Z} : ax+by = c$ tem solução $\\Longleftrightarrow$ $mdc(a,b) | c$. \n",
    "\n",
    "Se $x', y' \\in \\mathbb{Z} : ax'+by' = d$ e $c' \\in \\mathbb{Z} : c'd = c \\Longrightarrow a(x'c') +b(y'c') = (dc') = c$"
   ]
  },
  {
   "cell_type": "code",
   "execution_count": 12,
   "metadata": {},
   "outputs": [],
   "source": [
    "def euclidiano_estend(a,b,c):\n",
    "    \n",
    "    \"\"\"\n",
    "    Calcula x, y inteiros tais que ax + by = c pelo algoritmo euclidiano estendido.\n",
    "    \n",
    "    :param a: inteiro\n",
    "    :param b: inteiro\n",
    "    :param c: inteiro\n",
    "    \n",
    "    :return x,y: inteiros solução da equação\n",
    "    \"\"\"\n",
    "    \n",
    "    d = mdc(a, b)\n",
    "    \n",
    "    if c % d != 0:\n",
    "        \n",
    "        print(\"Não existe solução para a equação, pois mdc(a,b) não divide c!\")\n",
    "    \n",
    "    else:\n",
    "        \n",
    "        # algoritmo de euclidiano estendido\n",
    "        \n",
    "        c = c/d\n",
    "        \n",
    "        x1 = 1\n",
    "        y1 = 0\n",
    "        \n",
    "        x2 = 0\n",
    "        y2 = 1\n",
    "        \n",
    "        r = a/d\n",
    "        b = b/d\n",
    "        \n",
    "        while b % r != 0:\n",
    "\n",
    "            a = b % r\n",
    "            q = (b-a)/r\n",
    "            b = r\n",
    "            r = a\n",
    "            \n",
    "            x1, x2 = x2, x1 - x2*q\n",
    "            y1, y2 = y2, y1 - y2*q\n",
    "            \n",
    "        \n",
    "        return c*y2, c*x2"
   ]
  },
  {
   "cell_type": "markdown",
   "metadata": {},
   "source": [
    "Exemplo 1:"
   ]
  },
  {
   "cell_type": "code",
   "execution_count": 13,
   "metadata": {
    "scrolled": true
   },
   "outputs": [
    {
     "data": {
      "text/plain": [
       "(54.0, -7.0)"
      ]
     },
     "execution_count": 13,
     "metadata": {},
     "output_type": "execute_result"
    }
   ],
   "source": [
    "a, b, c = 160, 1234, 2\n",
    "x, y = euclidiano_estend(a, b, c)\n",
    "x, y"
   ]
  },
  {
   "cell_type": "code",
   "execution_count": 14,
   "metadata": {},
   "outputs": [
    {
     "data": {
      "text/plain": [
       "2.0"
      ]
     },
     "execution_count": 14,
     "metadata": {},
     "output_type": "execute_result"
    }
   ],
   "source": [
    "x*a + y*b"
   ]
  },
  {
   "cell_type": "markdown",
   "metadata": {},
   "source": [
    "Exemplo 2:"
   ]
  },
  {
   "cell_type": "code",
   "execution_count": 15,
   "metadata": {},
   "outputs": [
    {
     "data": {
      "text/plain": [
       "(-357.0, 46.0)"
      ]
     },
     "execution_count": 15,
     "metadata": {},
     "output_type": "execute_result"
    }
   ],
   "source": [
    "a, b, c = 159, 1234, 1\n",
    "x, y = euclidiano_estend(a, b, c)\n",
    "x, y"
   ]
  },
  {
   "cell_type": "code",
   "execution_count": 16,
   "metadata": {},
   "outputs": [
    {
     "data": {
      "text/plain": [
       "1.0"
      ]
     },
     "execution_count": 16,
     "metadata": {},
     "output_type": "execute_result"
    }
   ],
   "source": [
    "x*a + y*b"
   ]
  },
  {
   "cell_type": "markdown",
   "metadata": {},
   "source": [
    "Exemplo 3:"
   ]
  },
  {
   "cell_type": "code",
   "execution_count": 17,
   "metadata": {},
   "outputs": [
    {
     "name": "stdout",
     "output_type": "stream",
     "text": [
      "Não existe solução para a equação, pois mdc(a,b) não divide c!\n"
     ]
    }
   ],
   "source": [
    "euclidiano_estend(14, 22, 3)"
   ]
  },
  {
   "cell_type": "markdown",
   "metadata": {},
   "source": [
    "### Capítulo 2: Fatoração Única"
   ]
  },
  {
   "cell_type": "markdown",
   "metadata": {},
   "source": [
    "#### Exercício 11:"
   ]
  },
  {
   "cell_type": "markdown",
   "metadata": {},
   "source": [
    "Solução adaptada do [StackOverflow](https://codereview.stackexchange.com/questions/156986/find-highly-composite-number-using-python-3), otimizei a busca por divisores limitando os valores até o piso da metade de $n$, já que o menor divisor possível diferente de 1 e $n$ é o 2, logo, o maior seria $d \\in \\mathbb{Z}: 2d = n$."
   ]
  },
  {
   "cell_type": "code",
   "execution_count": 18,
   "metadata": {},
   "outputs": [],
   "source": [
    "def lista_div(M):\n",
    "    \n",
    "    \"\"\"\n",
    "    Gera a lista dos divisores de todos os inteiros positivos até determinado valor.\n",
    "    \n",
    "    :param M: valor máximo dos inteiros\n",
    "    \n",
    "    :return lista_divisores: lista dos divisores dos inteiros positivos até M\n",
    "    \"\"\"\n",
    "    \n",
    "    lista_divisores = {1: 1}\n",
    "\n",
    "    for n in range(2, M+1):\n",
    "\n",
    "        divisores = 2 # começamos com 1 e o próprio número\n",
    "\n",
    "        if n > 3:\n",
    "            \n",
    "            for divisor in range(int(np.floor(n/2)), 1, -1):\n",
    "\n",
    "                if (n % divisor) == 0:\n",
    "\n",
    "                    divisores += 1\n",
    "\n",
    "        lista_divisores[n] = divisores\n",
    "        \n",
    "    return lista_divisores\n",
    "\n",
    "def get_highly_composite_number(M):\n",
    "    \n",
    "    \"\"\"\n",
    "    Determina todos os números altamente compostos (hcn) menores que r.\n",
    "    \n",
    "    :param r: inteiro\n",
    "    \n",
    "    :return l: lista dos números altamente compostos (hcn) menores que r\n",
    "    \"\"\"\n",
    "    \n",
    "    divisor_list = lista_div(M)\n",
    "    highly_composite_number_list = []\n",
    "    \n",
    "    n = 1\n",
    "    for i in range(1, len(divisor_list)+1):\n",
    "        \n",
    "        if divisor_list[i] > n:\n",
    "            \n",
    "            highly_composite_number_list.append(i)\n",
    "            n = divisor_list[i]\n",
    "    \n",
    "    return highly_composite_number_list"
   ]
  },
  {
   "cell_type": "code",
   "execution_count": 19,
   "metadata": {},
   "outputs": [
    {
     "name": "stdout",
     "output_type": "stream",
     "text": [
      "CPU times: user 1.86 s, sys: 28 ms, total: 1.89 s\n",
      "Wall time: 1.89 s\n"
     ]
    },
    {
     "data": {
      "text/plain": [
       "[2,\n",
       " 4,\n",
       " 6,\n",
       " 12,\n",
       " 24,\n",
       " 36,\n",
       " 48,\n",
       " 60,\n",
       " 120,\n",
       " 180,\n",
       " 240,\n",
       " 360,\n",
       " 720,\n",
       " 840,\n",
       " 1260,\n",
       " 1680,\n",
       " 2520,\n",
       " 5040,\n",
       " 7560]"
      ]
     },
     "execution_count": 19,
     "metadata": {},
     "output_type": "execute_result"
    }
   ],
   "source": [
    "%%time\n",
    "get_highly_composite_number(7560)"
   ]
  },
  {
   "cell_type": "markdown",
   "metadata": {},
   "source": [
    "#### Exercício 12:\n",
    "\n",
    "**OBS:** a escolha do teste dos critérios de parada importa, pois, se $n$ é primo, então $x = \\frac{(n+1)}{2}$ e $y = \\frac{(n-1)}{2}$. \n",
    "\n",
    "Logo, $x$ é inteiro, e, se colocarmos esse como o teste, as soluções seriam $x + y = n$ e $x - y = 1$ fatores de $n$, mas, para definirmos números primos, assumimos que $1$ não é um fator. Então, saindo da iteração, escolhi como testar se $x = (n+1)/2$, que, caso positivo, sabemos que n é primo."
   ]
  },
  {
   "cell_type": "code",
   "execution_count": 20,
   "metadata": {},
   "outputs": [],
   "source": [
    "def alg_Fermat(n):\n",
    "    \n",
    "    \"\"\"\n",
    "    Calcula os fatores de n e retorna p1, p2 tais que p1p2 = n.\n",
    "    \n",
    "    :param n: inteiro positivo ímpar\n",
    "    \n",
    "    :return p1, p2: fatores de n\n",
    "    \"\"\"\n",
    "    \n",
    "    # checa a paridade de n\n",
    "    if n % 2 == 0: \n",
    "        \n",
    "        print(\"O número passado deve ser ímpar, {} não é!\".format(n))\n",
    "        return \n",
    "    \n",
    "    # parte inteira de raiz de n\n",
    "    x = np.floor(n**(1/2))\n",
    "    \n",
    "    if x**2 == n:\n",
    "        \n",
    "        return x\n",
    "    \n",
    "    else:\n",
    "        \n",
    "        # valor incial qualquer\n",
    "        y = 0.1\n",
    "        \n",
    "        while (y.is_integer() == False) and (x < (n+1)/2):\n",
    "            \n",
    "            x += 1\n",
    "            y = (x**2 - n)**(1/2)\n",
    "        \n",
    "        print('x:', x, '\\ny: ', y)\n",
    "        \n",
    "        if x == (n+1)/2: \n",
    "            \n",
    "            print(\"\\nO número {} é primo!\".format(n))\n",
    "        \n",
    "        else:\n",
    "            \n",
    "            return x + y, x - y"
   ]
  },
  {
   "cell_type": "code",
   "execution_count": 21,
   "metadata": {},
   "outputs": [
    {
     "name": "stdout",
     "output_type": "stream",
     "text": [
      "x: 112.0 \n",
      "y:  111.0\n",
      "\n",
      "O número 223 é primo!\n"
     ]
    }
   ],
   "source": [
    "alg_Fermat(223)"
   ]
  },
  {
   "cell_type": "code",
   "execution_count": 22,
   "metadata": {},
   "outputs": [
    {
     "name": "stdout",
     "output_type": "stream",
     "text": [
      "x: 15.0 \n",
      "y:  2.0\n"
     ]
    },
    {
     "data": {
      "text/plain": [
       "(17.0, 13.0)"
      ]
     },
     "execution_count": 22,
     "metadata": {},
     "output_type": "execute_result"
    }
   ],
   "source": [
    "alg_Fermat(221)"
   ]
  },
  {
   "cell_type": "code",
   "execution_count": 23,
   "metadata": {},
   "outputs": [
    {
     "name": "stdout",
     "output_type": "stream",
     "text": [
      "x: 41.0 \n",
      "y:  24.0\n"
     ]
    },
    {
     "data": {
      "text/plain": [
       "(65.0, 17.0)"
      ]
     },
     "execution_count": 23,
     "metadata": {},
     "output_type": "execute_result"
    }
   ],
   "source": [
    "alg_Fermat(221*5)"
   ]
  },
  {
   "cell_type": "markdown",
   "metadata": {},
   "source": [
    "### Capítulo 3: Números Primos"
   ]
  },
  {
   "cell_type": "markdown",
   "metadata": {},
   "source": [
    "#### Exercício 10:"
   ]
  },
  {
   "cell_type": "markdown",
   "metadata": {},
   "source": [
    "Como é dito no livro, o crivo de Eratóstenes é o mais antigo método de busca de números primos. \n",
    "\n",
    "Ele recebe esse nome pois, partindo de uma lista de números ímpares maiores que 1, a cada iteração $k$ escolhemos o $n_{k}$ = $k$-ésimo número da lista e cortamos todos os seus múltiplos, ou seja, pulamos de $n_k$ em $n_k$ números e \"riscamos\" esses valores. Depois de passarmos por todas as \"peneiras\", ficamos somente com os númeors primos não riscados.\n",
    "\n",
    "Isso funciona pois todos os múltiplos ímpares de $n_k$ são da forma $n_k + 2in_k$, sendo $ i \\in \\mathbb{Z}$. Logo, a distância entre eles é $2in_k$, e retirando os pares do intervalo, reduzimos essa distância à metade, que ainda é múltiplo de $n_k$.\n",
    "\n",
    "Porém, podemos observar duas coisas:\n",
    "\n",
    "1. Para todo $m$ na lista, $1 < m < n \\rightarrow \\sqrt{m} < \\sqrt{n}$. Se m for composto, sabemos que $\\exists d < \\sqrt{m} : m \\equiv 0 \\textrm{ mod } d$. **Logo, só precisamos verificar os números até $\\sqrt{n}$, pois todos os números compostos vão ser riscados numa iteração anterior, já que têm um divisor menor que $\\sqrt{n}$.**\n",
    "\n",
    "2. Outras repetições ainda ocorrem: quando estamos riscando os múltiplos de um primo p, alguns deles podem também ser múltiplos de primos menores, e portanto acabam sendo riscados mais de uma vez. **Para reduzir isso, podemos começar a riscar os múltiplos de p a partir de $p^2$, pois qualquer múltiplo menor já foi riscado.**\n",
    "\n",
    "Assim, seja n um número ímpar o qual queremos descobrir todos os primos menores que $n$. Criamos uma lista de $\\frac{n-1}{2}$ posições, sendo cada posição $i$ correspondendte a um ímpar $2i + 1 \\in [3, n]$. Usamos $1$ para valores não riscados e $0$ para valores riscados, logo a lista começa com todos os valores iguais a $1$. A cada iteração, verificamos os itens (1) e (2):\n",
    "\n",
    "- Seja P o valor atual:\n",
    "    - Se $P^2 > n$, paramos as iterações e retornamos os números correspondentes aos índices da lista cujo valor é $1$\n",
    "    - Caso contrário, riscamos os múltiplos de $P$ começando de $P^2$ e pulando de $P$ em $P$"
   ]
  },
  {
   "cell_type": "code",
   "execution_count": 24,
   "metadata": {},
   "outputs": [],
   "source": [
    "def crivo_eratostenes(n):\n",
    "    \n",
    "    \"\"\"\n",
    "    Lista os primos ímpares menores ou iguais a n.\n",
    "    \n",
    "    :param n: inteiro positivo\n",
    "    \n",
    "    :return primos: lista de primos ímpares menores ou iguais a n \n",
    "    \"\"\"\n",
    "    \n",
    "    if n % 2 == 0:\n",
    "        \n",
    "        n = n - 1\n",
    "        \n",
    "    # acrescentei 1 pois os índices da lista python começam em 0!\n",
    "    v = [1 for i in range(0, 1+int((n-1)/2))] \n",
    "    P = 3\n",
    "    \n",
    "    # limitamos as iterações até raiz de n!\n",
    "    while P**2 <= n: \n",
    "        \n",
    "        if v[int((P-1)/2)] == 0:\n",
    "\n",
    "            P += 2\n",
    "\n",
    "        else:\n",
    "            \n",
    "            # começamos com p²\n",
    "            T = P**2 \n",
    "            while T <= n:\n",
    "                \n",
    "                v[int((T-1)/2)] = 0\n",
    "                # escolhemos o próximo múltiplo de p para riscar!\n",
    "                T += 2*P\n",
    "                \n",
    "            P += 2\n",
    "            \n",
    "    primos = []\n",
    "    \n",
    "    for i in range(len(v)):\n",
    "        \n",
    "        if v[i] == 1 and i != 0:\n",
    "            \n",
    "            try:\n",
    "                primos.append(2*i+1)\n",
    "            except:\n",
    "                pass\n",
    "    \n",
    "    return primos\n",
    "    \n",
    "\n",
    "def busca_primos_pol(a, b, c):\n",
    "    \n",
    "    \"\"\"\n",
    "    Busca os valores de x, entre 0 e 100, para os quais ax² + bx + c é primo\n",
    "    \n",
    "    :param a: coeficiente de 2ª ordem\n",
    "    :param b: coeficiente de 1ª ordem\n",
    "    :param c: valor independente\n",
    "    \n",
    "    :return x: valores de x para os quais f(x) é primo\n",
    "    \"\"\"\n",
    "    \n",
    "    f = lambda x : a*x**2 + b*x + c\n",
    "    \n",
    "    if f(0) < f(100):\n",
    "        \n",
    "        l = f(0)\n",
    "        u = f(100)\n",
    "        \n",
    "    else:\n",
    "        \n",
    "        l = f(100)\n",
    "        u = f(0)\n",
    "        \n",
    "    primos = list(set(crivo_eratostenes(abs(u))) - set(crivo_eratostenes(abs(l))))\n",
    "    \n",
    "    f_x = {f(i): i for i in range(0, 101)}\n",
    "    \n",
    "    y_primos = set(primos) & set(f_x.keys())\n",
    "    x_primos = set(f_x[y] for y in y_primos)\n",
    "    \n",
    "    return x_primos"
   ]
  },
  {
   "cell_type": "markdown",
   "metadata": {},
   "source": [
    "(1) $f(x)  = x^2 + 1$"
   ]
  },
  {
   "cell_type": "code",
   "execution_count": 25,
   "metadata": {},
   "outputs": [
    {
     "data": {
      "text/plain": [
       "[(2, 5),\n",
       " (66, 4357),\n",
       " (4, 17),\n",
       " (90, 8101),\n",
       " (6, 37),\n",
       " (36, 1297),\n",
       " (40, 1601),\n",
       " (10, 101),\n",
       " (74, 5477),\n",
       " (14, 197),\n",
       " (16, 257),\n",
       " (20, 401),\n",
       " (84, 7057),\n",
       " (54, 2917),\n",
       " (56, 3137),\n",
       " (24, 577),\n",
       " (26, 677),\n",
       " (94, 8837)]"
      ]
     },
     "execution_count": 25,
     "metadata": {},
     "output_type": "execute_result"
    }
   ],
   "source": [
    "a = 1\n",
    "b = 0\n",
    "c = 1\n",
    "\n",
    "x = busca_primos_pol(a, b, c)\n",
    "f = lambda x: a*x**2 + b*x + c\n",
    "\n",
    "list(zip(x, list(map(f, x))))"
   ]
  },
  {
   "cell_type": "markdown",
   "metadata": {},
   "source": [
    "(2) $f(x)  = x^2 -69x + 1231$"
   ]
  },
  {
   "cell_type": "code",
   "execution_count": 26,
   "metadata": {},
   "outputs": [
    {
     "data": {
      "text/plain": [
       "[(70, 1301),\n",
       " (71, 1373),\n",
       " (72, 1447),\n",
       " (73, 1523),\n",
       " (74, 1601),\n",
       " (77, 1847),\n",
       " (78, 1933),\n",
       " (80, 2111),\n",
       " (81, 2203),\n",
       " (82, 2297),\n",
       " (83, 2393),\n",
       " (85, 2591),\n",
       " (86, 2693),\n",
       " (87, 2797),\n",
       " (88, 2903),\n",
       " (89, 3011),\n",
       " (90, 3121),\n",
       " (92, 3347),\n",
       " (93, 3463),\n",
       " (94, 3581),\n",
       " (95, 3701),\n",
       " (96, 3823),\n",
       " (97, 3947),\n",
       " (98, 4073),\n",
       " (99, 4201)]"
      ]
     },
     "execution_count": 26,
     "metadata": {},
     "output_type": "execute_result"
    }
   ],
   "source": [
    "a = 1\n",
    "b = -69\n",
    "c = 1231\n",
    "\n",
    "x = busca_primos_pol(a, b, c)\n",
    "f = lambda x: a*x**2 + b*x + c\n",
    "\n",
    "list(zip(x, list(map(f, x))))"
   ]
  },
  {
   "cell_type": "markdown",
   "metadata": {},
   "source": [
    "(3) $f(x)  = 2x^2 - 199$"
   ]
  },
  {
   "cell_type": "code",
   "execution_count": 27,
   "metadata": {
    "scrolled": true
   },
   "outputs": [
    {
     "data": {
      "text/plain": [
       "[(33, 2377),\n",
       " (99, 19801),\n",
       " (36, 2791),\n",
       " (69, 9721),\n",
       " (6, 271),\n",
       " (72, 10567),\n",
       " (42, 3727),\n",
       " (12, 487),\n",
       " (27, 1657),\n",
       " (93, 17497),\n",
       " (30, 1999)]"
      ]
     },
     "execution_count": 27,
     "metadata": {},
     "output_type": "execute_result"
    }
   ],
   "source": [
    "a = 2\n",
    "b = 0\n",
    "c = 199\n",
    "\n",
    "x = busca_primos_pol(a, b, c)\n",
    "f = lambda x: a*x**2 + b*x + c\n",
    "\n",
    "list(zip(x, list(map(f, x))))"
   ]
  },
  {
   "cell_type": "markdown",
   "metadata": {},
   "source": [
    "(4) $f(x)  = 8x^2 - 530x + 7681$"
   ]
  },
  {
   "cell_type": "code",
   "execution_count": 28,
   "metadata": {},
   "outputs": [
    {
     "data": {
      "text/plain": [
       "[(69, 9199),\n",
       " (70, 9781),\n",
       " (72, 10993),\n",
       " (74, 12269),\n",
       " (77, 14303),\n",
       " (78, 15013),\n",
       " (79, 15739),\n",
       " (80, 16481),\n",
       " (81, 17239),\n",
       " (82, 18013),\n",
       " (83, 18803),\n",
       " (84, 19609),\n",
       " (85, 20431),\n",
       " (86, 21269),\n",
       " (87, 22123),\n",
       " (88, 22993),\n",
       " (89, 23879),\n",
       " (90, 24781),\n",
       " (92, 26633),\n",
       " (93, 27583),\n",
       " (94, 28549),\n",
       " (95, 29531),\n",
       " (96, 30529),\n",
       " (97, 31543),\n",
       " (98, 32573),\n",
       " (99, 33619)]"
      ]
     },
     "execution_count": 28,
     "metadata": {},
     "output_type": "execute_result"
    }
   ],
   "source": [
    "a = 8\n",
    "b = -530\n",
    "c = 7681\n",
    "\n",
    "x = busca_primos_pol(a, b, c)\n",
    "f = lambda x: a*x**2 + b*x + c\n",
    "\n",
    "list(zip(x, list(map(f, x))))"
   ]
  },
  {
   "cell_type": "markdown",
   "metadata": {},
   "source": [
    "#### Exercício 11:\n",
    "\n",
    "Para o cálculo de $\\pi(x)$, foi implementado o crivo de Eratóstenes no exercício anterior. Implementamos aqui a aproximação de $\\pi(x)$, dada por:\n",
    "\n",
    "$S(x) = \\frac{x}{log x}\\left( 1 + \\left[ \\sum_{k=0}^{12} a_k(log(log x))^k \\right]^\\left( \\frac{-1}{4}\\right) \\right)$"
   ]
  },
  {
   "cell_type": "code",
   "execution_count": 29,
   "metadata": {},
   "outputs": [],
   "source": [
    "a0 = 229168.50747390\n",
    "a1 = -42449.7206839\n",
    "a2 = 199330.41355048\n",
    "a3 = 28226.22049280\n",
    "a4 = 0\n",
    "a5 = 0\n",
    "a6 = -34712.81875914\n",
    "a7 = 0\n",
    "a8 = 33820\n",
    "a9 = -25379.82656589\n",
    "a10 = 8386.14942934\n",
    "a11 = -1360.44512548\n",
    "a12 = 89.14545378"
   ]
  },
  {
   "cell_type": "code",
   "execution_count": 35,
   "metadata": {},
   "outputs": [],
   "source": [
    "a = [a1, a2, a3, a4, a5, a6, a7, a8, a9, a10, a11, a12]\n",
    "a_n = [lambda x: a[k]*np.log(np.log(x))**k for k in range(len(a))]\n",
    "\n",
    "S = lambda x: (1+ sum([a_k(x) for a_k in a_n])**(-1/4))*x/np.log(x)"
   ]
  },
  {
   "cell_type": "code",
   "execution_count": 36,
   "metadata": {},
   "outputs": [],
   "source": [
    "pi = lambda x: 1+ len(crivo_eratostenes(x)) # adicionamos o 2, que é primo mas não é ímpar!"
   ]
  },
  {
   "cell_type": "markdown",
   "metadata": {},
   "source": [
    "Para $x = 11$:"
   ]
  },
  {
   "cell_type": "code",
   "execution_count": 37,
   "metadata": {},
   "outputs": [
    {
     "data": {
      "text/plain": [
       "5.746875863726586"
      ]
     },
     "execution_count": 37,
     "metadata": {},
     "output_type": "execute_result"
    }
   ],
   "source": [
    "S(11)"
   ]
  },
  {
   "cell_type": "code",
   "execution_count": 38,
   "metadata": {},
   "outputs": [
    {
     "data": {
      "text/plain": [
       "5"
      ]
     },
     "execution_count": 38,
     "metadata": {},
     "output_type": "execute_result"
    }
   ],
   "source": [
    "pi(11)"
   ]
  },
  {
   "cell_type": "markdown",
   "metadata": {},
   "source": [
    "Para $x = 100$:"
   ]
  },
  {
   "cell_type": "code",
   "execution_count": 39,
   "metadata": {},
   "outputs": [
    {
     "data": {
      "text/plain": [
       "22.899773264110465"
      ]
     },
     "execution_count": 39,
     "metadata": {},
     "output_type": "execute_result"
    }
   ],
   "source": [
    "S(100)"
   ]
  },
  {
   "cell_type": "code",
   "execution_count": 40,
   "metadata": {},
   "outputs": [
    {
     "data": {
      "text/plain": [
       "25"
      ]
     },
     "execution_count": 40,
     "metadata": {},
     "output_type": "execute_result"
    }
   ],
   "source": [
    "pi(100)"
   ]
  },
  {
   "cell_type": "markdown",
   "metadata": {},
   "source": [
    "Construindo a tabela para os valores do enunciado:"
   ]
  },
  {
   "cell_type": "code",
   "execution_count": 41,
   "metadata": {},
   "outputs": [
    {
     "data": {
      "text/plain": [
       "[11, 100, 1000, 2000, 3000, 4000, 5000, 6000, 7000, 8000, 9000, 10000]"
      ]
     },
     "execution_count": 41,
     "metadata": {},
     "output_type": "execute_result"
    }
   ],
   "source": [
    "x = [11, 100] + [1000*i for i in range(1,11)]\n",
    "x"
   ]
  },
  {
   "cell_type": "code",
   "execution_count": 42,
   "metadata": {},
   "outputs": [],
   "source": [
    "T = DataFrame(index = x)\n",
    "\n",
    "T['pi(x)'] = T.index.map(pi)\n",
    "T['S(x)'] = T.index.map(S)\n",
    "T['x/log(x)'] = T.index.map(lambda x: x/np.log(x))"
   ]
  },
  {
   "cell_type": "code",
   "execution_count": 43,
   "metadata": {},
   "outputs": [
    {
     "data": {
      "text/html": [
       "<div>\n",
       "<style scoped>\n",
       "    .dataframe tbody tr th:only-of-type {\n",
       "        vertical-align: middle;\n",
       "    }\n",
       "\n",
       "    .dataframe tbody tr th {\n",
       "        vertical-align: top;\n",
       "    }\n",
       "\n",
       "    .dataframe thead th {\n",
       "        text-align: right;\n",
       "    }\n",
       "</style>\n",
       "<table border=\"1\" class=\"dataframe\">\n",
       "  <thead>\n",
       "    <tr style=\"text-align: right;\">\n",
       "      <th></th>\n",
       "      <th>pi(x)</th>\n",
       "      <th>S(x)</th>\n",
       "      <th>x/log(x)</th>\n",
       "      <th>pi(x) - S(x)</th>\n",
       "      <th>pi(x) - x/log(x)</th>\n",
       "    </tr>\n",
       "  </thead>\n",
       "  <tbody>\n",
       "    <tr>\n",
       "      <th>11</th>\n",
       "      <td>5</td>\n",
       "      <td>5.746876</td>\n",
       "      <td>4.587356</td>\n",
       "      <td>-0.746876</td>\n",
       "      <td>0.412644</td>\n",
       "    </tr>\n",
       "    <tr>\n",
       "      <th>100</th>\n",
       "      <td>25</td>\n",
       "      <td>22.899773</td>\n",
       "      <td>21.714724</td>\n",
       "      <td>2.100227</td>\n",
       "      <td>3.285276</td>\n",
       "    </tr>\n",
       "    <tr>\n",
       "      <th>1000</th>\n",
       "      <td>168</td>\n",
       "      <td>148.899345</td>\n",
       "      <td>144.764827</td>\n",
       "      <td>19.100655</td>\n",
       "      <td>23.235173</td>\n",
       "    </tr>\n",
       "    <tr>\n",
       "      <th>2000</th>\n",
       "      <td>303</td>\n",
       "      <td>269.707025</td>\n",
       "      <td>263.126650</td>\n",
       "      <td>33.292975</td>\n",
       "      <td>39.873350</td>\n",
       "    </tr>\n",
       "    <tr>\n",
       "      <th>3000</th>\n",
       "      <td>430</td>\n",
       "      <td>383.442640</td>\n",
       "      <td>374.701758</td>\n",
       "      <td>46.557360</td>\n",
       "      <td>55.298242</td>\n",
       "    </tr>\n",
       "    <tr>\n",
       "      <th>4000</th>\n",
       "      <td>550</td>\n",
       "      <td>493.014979</td>\n",
       "      <td>482.273458</td>\n",
       "      <td>56.985021</td>\n",
       "      <td>67.726542</td>\n",
       "    </tr>\n",
       "    <tr>\n",
       "      <th>5000</th>\n",
       "      <td>669</td>\n",
       "      <td>599.682163</td>\n",
       "      <td>587.047856</td>\n",
       "      <td>69.317837</td>\n",
       "      <td>81.952144</td>\n",
       "    </tr>\n",
       "    <tr>\n",
       "      <th>6000</th>\n",
       "      <td>783</td>\n",
       "      <td>704.140822</td>\n",
       "      <td>689.693641</td>\n",
       "      <td>78.859178</td>\n",
       "      <td>93.306359</td>\n",
       "    </tr>\n",
       "    <tr>\n",
       "      <th>7000</th>\n",
       "      <td>900</td>\n",
       "      <td>806.830344</td>\n",
       "      <td>790.632993</td>\n",
       "      <td>93.169656</td>\n",
       "      <td>109.367007</td>\n",
       "    </tr>\n",
       "    <tr>\n",
       "      <th>8000</th>\n",
       "      <td>1007</td>\n",
       "      <td>908.051571</td>\n",
       "      <td>890.155202</td>\n",
       "      <td>98.948429</td>\n",
       "      <td>116.844798</td>\n",
       "    </tr>\n",
       "    <tr>\n",
       "      <th>9000</th>\n",
       "      <td>1117</td>\n",
       "      <td>1008.022535</td>\n",
       "      <td>988.470062</td>\n",
       "      <td>108.977465</td>\n",
       "      <td>128.529938</td>\n",
       "    </tr>\n",
       "    <tr>\n",
       "      <th>10000</th>\n",
       "      <td>1229</td>\n",
       "      <td>1106.908002</td>\n",
       "      <td>1085.736205</td>\n",
       "      <td>122.091998</td>\n",
       "      <td>143.263795</td>\n",
       "    </tr>\n",
       "  </tbody>\n",
       "</table>\n",
       "</div>"
      ],
      "text/plain": [
       "       pi(x)         S(x)     x/log(x)  pi(x) - S(x)  pi(x) - x/log(x)\n",
       "11         5     5.746876     4.587356     -0.746876          0.412644\n",
       "100       25    22.899773    21.714724      2.100227          3.285276\n",
       "1000     168   148.899345   144.764827     19.100655         23.235173\n",
       "2000     303   269.707025   263.126650     33.292975         39.873350\n",
       "3000     430   383.442640   374.701758     46.557360         55.298242\n",
       "4000     550   493.014979   482.273458     56.985021         67.726542\n",
       "5000     669   599.682163   587.047856     69.317837         81.952144\n",
       "6000     783   704.140822   689.693641     78.859178         93.306359\n",
       "7000     900   806.830344   790.632993     93.169656        109.367007\n",
       "8000    1007   908.051571   890.155202     98.948429        116.844798\n",
       "9000    1117  1008.022535   988.470062    108.977465        128.529938\n",
       "10000   1229  1106.908002  1085.736205    122.091998        143.263795"
      ]
     },
     "execution_count": 43,
     "metadata": {},
     "output_type": "execute_result"
    }
   ],
   "source": [
    "T['pi(x) - S(x)'] = T['pi(x)'] - T['S(x)']\n",
    "T['pi(x) - x/log(x)'] = T['pi(x)'] - T['x/log(x)']\n",
    "T"
   ]
  },
  {
   "cell_type": "markdown",
   "metadata": {},
   "source": [
    "Primeiro, vale notar que ambas as aproximações substimam o valor real $\\pi(x)$, com exceção de $S(11)$. Aliás, exceto para $x=11$, $S(x)$ aproxima melhor $\\pi(x)$ do que $\\frac{x}{logx}$ para os valores do enunciado. Observando também a diferença entre os dois erros de aproximação, vemos que eles vão se distanciando, ou seja, a taxa de crescimento do erro de $\\pi(x)$ aumenta mais que $S(x)$ a medida que x cresce."
   ]
  },
  {
   "cell_type": "code",
   "execution_count": 44,
   "metadata": {},
   "outputs": [
    {
     "data": {
      "text/plain": [
       "11        1.159520\n",
       "100       1.185049\n",
       "1000      4.134518\n",
       "2000      6.580375\n",
       "3000      8.740882\n",
       "4000     10.741521\n",
       "5000     12.634307\n",
       "6000     14.447181\n",
       "7000     16.197351\n",
       "8000     17.896369\n",
       "9000     19.552473\n",
       "10000    21.171797\n",
       "Name: diff, dtype: float64"
      ]
     },
     "execution_count": 44,
     "metadata": {},
     "output_type": "execute_result"
    }
   ],
   "source": [
    "T['diff'] = T['pi(x) - x/log(x)'] - T['pi(x) - S(x)']\n",
    "T['diff']"
   ]
  },
  {
   "cell_type": "markdown",
   "metadata": {},
   "source": [
    "#### Exercício 12:"
   ]
  },
  {
   "cell_type": "code",
   "execution_count": 45,
   "metadata": {},
   "outputs": [],
   "source": [
    "def primos_mod_4(x):\n",
    "    \n",
    "    \"\"\"\n",
    "    Calcula os primos menores ou iguais a x da forma 4n+1 e da forma 4n+3\n",
    "    \n",
    "    :param x: inteiro positivo\n",
    "    \n",
    "    :return pi1, pi3: número de primos menores que x da forma 4n+1 (pi1) e 4n+3 (pi3)\n",
    "    \"\"\"\n",
    "    \n",
    "    primos = crivo_eratostenes(x)\n",
    "    \n",
    "    pi1 = []\n",
    "    pi3 = []\n",
    "    \n",
    "    for primo in primos:\n",
    "        \n",
    "        if primo % 4 == 1:\n",
    "            \n",
    "            pi1.append(primo)\n",
    "            \n",
    "        else:\n",
    "            pi3.append(primo)\n",
    "            \n",
    "    return len(pi1), len(pi3)"
   ]
  },
  {
   "cell_type": "code",
   "execution_count": 46,
   "metadata": {},
   "outputs": [],
   "source": [
    "x = [100*i for i in range(1001)]"
   ]
  },
  {
   "cell_type": "code",
   "execution_count": 47,
   "metadata": {},
   "outputs": [],
   "source": [
    "T = DataFrame(index = x)\n",
    "\n",
    "T['pi1'] = 0\n",
    "T['pi3'] = 0\n",
    "\n",
    "for i in x:\n",
    "    \n",
    "    p1, p3 = primos_mod_4(i)\n",
    "    \n",
    "    T['pi1'][i] = p1\n",
    "    T['pi3'][i] = p3\n",
    "\n",
    "#T['pi1'] = [primos_mod_4(x)[0] for x in T.index]"
   ]
  },
  {
   "cell_type": "markdown",
   "metadata": {},
   "source": [
    "Calculando a razão $\\frac{\\pi_{1}(x)}{\\pi_{3}(x)}$, a medida que x cresce, $\\frac{\\pi_{1}(x)}{\\pi_{3}(x)} \\rightarrow 1$"
   ]
  },
  {
   "cell_type": "code",
   "execution_count": 48,
   "metadata": {},
   "outputs": [
    {
     "data": {
      "text/html": [
       "<div>\n",
       "<style scoped>\n",
       "    .dataframe tbody tr th:only-of-type {\n",
       "        vertical-align: middle;\n",
       "    }\n",
       "\n",
       "    .dataframe tbody tr th {\n",
       "        vertical-align: top;\n",
       "    }\n",
       "\n",
       "    .dataframe thead th {\n",
       "        text-align: right;\n",
       "    }\n",
       "</style>\n",
       "<table border=\"1\" class=\"dataframe\">\n",
       "  <thead>\n",
       "    <tr style=\"text-align: right;\">\n",
       "      <th></th>\n",
       "      <th>pi1</th>\n",
       "      <th>pi3</th>\n",
       "      <th>pi1/pi3</th>\n",
       "    </tr>\n",
       "  </thead>\n",
       "  <tbody>\n",
       "    <tr>\n",
       "      <th>0</th>\n",
       "      <td>0</td>\n",
       "      <td>0</td>\n",
       "      <td>NaN</td>\n",
       "    </tr>\n",
       "    <tr>\n",
       "      <th>100</th>\n",
       "      <td>11</td>\n",
       "      <td>13</td>\n",
       "      <td>0.846154</td>\n",
       "    </tr>\n",
       "    <tr>\n",
       "      <th>200</th>\n",
       "      <td>21</td>\n",
       "      <td>24</td>\n",
       "      <td>0.875000</td>\n",
       "    </tr>\n",
       "    <tr>\n",
       "      <th>300</th>\n",
       "      <td>29</td>\n",
       "      <td>32</td>\n",
       "      <td>0.906250</td>\n",
       "    </tr>\n",
       "    <tr>\n",
       "      <th>400</th>\n",
       "      <td>37</td>\n",
       "      <td>40</td>\n",
       "      <td>0.925000</td>\n",
       "    </tr>\n",
       "    <tr>\n",
       "      <th>500</th>\n",
       "      <td>44</td>\n",
       "      <td>50</td>\n",
       "      <td>0.880000</td>\n",
       "    </tr>\n",
       "    <tr>\n",
       "      <th>600</th>\n",
       "      <td>51</td>\n",
       "      <td>57</td>\n",
       "      <td>0.894737</td>\n",
       "    </tr>\n",
       "    <tr>\n",
       "      <th>700</th>\n",
       "      <td>59</td>\n",
       "      <td>65</td>\n",
       "      <td>0.907692</td>\n",
       "    </tr>\n",
       "    <tr>\n",
       "      <th>800</th>\n",
       "      <td>67</td>\n",
       "      <td>71</td>\n",
       "      <td>0.943662</td>\n",
       "    </tr>\n",
       "    <tr>\n",
       "      <th>900</th>\n",
       "      <td>74</td>\n",
       "      <td>79</td>\n",
       "      <td>0.936709</td>\n",
       "    </tr>\n",
       "    <tr>\n",
       "      <th>1000</th>\n",
       "      <td>80</td>\n",
       "      <td>87</td>\n",
       "      <td>0.919540</td>\n",
       "    </tr>\n",
       "    <tr>\n",
       "      <th>1100</th>\n",
       "      <td>89</td>\n",
       "      <td>94</td>\n",
       "      <td>0.946809</td>\n",
       "    </tr>\n",
       "    <tr>\n",
       "      <th>1200</th>\n",
       "      <td>95</td>\n",
       "      <td>100</td>\n",
       "      <td>0.950000</td>\n",
       "    </tr>\n",
       "    <tr>\n",
       "      <th>1300</th>\n",
       "      <td>104</td>\n",
       "      <td>106</td>\n",
       "      <td>0.981132</td>\n",
       "    </tr>\n",
       "    <tr>\n",
       "      <th>1400</th>\n",
       "      <td>109</td>\n",
       "      <td>112</td>\n",
       "      <td>0.973214</td>\n",
       "    </tr>\n",
       "    <tr>\n",
       "      <th>1500</th>\n",
       "      <td>116</td>\n",
       "      <td>122</td>\n",
       "      <td>0.950820</td>\n",
       "    </tr>\n",
       "    <tr>\n",
       "      <th>1600</th>\n",
       "      <td>119</td>\n",
       "      <td>131</td>\n",
       "      <td>0.908397</td>\n",
       "    </tr>\n",
       "    <tr>\n",
       "      <th>1700</th>\n",
       "      <td>128</td>\n",
       "      <td>137</td>\n",
       "      <td>0.934307</td>\n",
       "    </tr>\n",
       "    <tr>\n",
       "      <th>1800</th>\n",
       "      <td>135</td>\n",
       "      <td>142</td>\n",
       "      <td>0.950704</td>\n",
       "    </tr>\n",
       "    <tr>\n",
       "      <th>1900</th>\n",
       "      <td>140</td>\n",
       "      <td>149</td>\n",
       "      <td>0.939597</td>\n",
       "    </tr>\n",
       "    <tr>\n",
       "      <th>2000</th>\n",
       "      <td>147</td>\n",
       "      <td>155</td>\n",
       "      <td>0.948387</td>\n",
       "    </tr>\n",
       "    <tr>\n",
       "      <th>2100</th>\n",
       "      <td>153</td>\n",
       "      <td>163</td>\n",
       "      <td>0.938650</td>\n",
       "    </tr>\n",
       "    <tr>\n",
       "      <th>2200</th>\n",
       "      <td>159</td>\n",
       "      <td>167</td>\n",
       "      <td>0.952096</td>\n",
       "    </tr>\n",
       "    <tr>\n",
       "      <th>2300</th>\n",
       "      <td>167</td>\n",
       "      <td>174</td>\n",
       "      <td>0.959770</td>\n",
       "    </tr>\n",
       "    <tr>\n",
       "      <th>2400</th>\n",
       "      <td>175</td>\n",
       "      <td>181</td>\n",
       "      <td>0.966851</td>\n",
       "    </tr>\n",
       "    <tr>\n",
       "      <th>2500</th>\n",
       "      <td>180</td>\n",
       "      <td>186</td>\n",
       "      <td>0.967742</td>\n",
       "    </tr>\n",
       "    <tr>\n",
       "      <th>2600</th>\n",
       "      <td>184</td>\n",
       "      <td>193</td>\n",
       "      <td>0.953368</td>\n",
       "    </tr>\n",
       "    <tr>\n",
       "      <th>2700</th>\n",
       "      <td>192</td>\n",
       "      <td>200</td>\n",
       "      <td>0.960000</td>\n",
       "    </tr>\n",
       "    <tr>\n",
       "      <th>2800</th>\n",
       "      <td>200</td>\n",
       "      <td>206</td>\n",
       "      <td>0.970874</td>\n",
       "    </tr>\n",
       "    <tr>\n",
       "      <th>2900</th>\n",
       "      <td>206</td>\n",
       "      <td>212</td>\n",
       "      <td>0.971698</td>\n",
       "    </tr>\n",
       "    <tr>\n",
       "      <th>...</th>\n",
       "      <td>...</td>\n",
       "      <td>...</td>\n",
       "      <td>...</td>\n",
       "    </tr>\n",
       "    <tr>\n",
       "      <th>97100</th>\n",
       "      <td>4659</td>\n",
       "      <td>4683</td>\n",
       "      <td>0.994875</td>\n",
       "    </tr>\n",
       "    <tr>\n",
       "      <th>97200</th>\n",
       "      <td>4663</td>\n",
       "      <td>4689</td>\n",
       "      <td>0.994455</td>\n",
       "    </tr>\n",
       "    <tr>\n",
       "      <th>97300</th>\n",
       "      <td>4665</td>\n",
       "      <td>4692</td>\n",
       "      <td>0.994246</td>\n",
       "    </tr>\n",
       "    <tr>\n",
       "      <th>97400</th>\n",
       "      <td>4670</td>\n",
       "      <td>4697</td>\n",
       "      <td>0.994252</td>\n",
       "    </tr>\n",
       "    <tr>\n",
       "      <th>97500</th>\n",
       "      <td>4673</td>\n",
       "      <td>4701</td>\n",
       "      <td>0.994044</td>\n",
       "    </tr>\n",
       "    <tr>\n",
       "      <th>97600</th>\n",
       "      <td>4678</td>\n",
       "      <td>4707</td>\n",
       "      <td>0.993839</td>\n",
       "    </tr>\n",
       "    <tr>\n",
       "      <th>97700</th>\n",
       "      <td>4682</td>\n",
       "      <td>4710</td>\n",
       "      <td>0.994055</td>\n",
       "    </tr>\n",
       "    <tr>\n",
       "      <th>97800</th>\n",
       "      <td>4685</td>\n",
       "      <td>4713</td>\n",
       "      <td>0.994059</td>\n",
       "    </tr>\n",
       "    <tr>\n",
       "      <th>97900</th>\n",
       "      <td>4690</td>\n",
       "      <td>4719</td>\n",
       "      <td>0.993855</td>\n",
       "    </tr>\n",
       "    <tr>\n",
       "      <th>98000</th>\n",
       "      <td>4692</td>\n",
       "      <td>4725</td>\n",
       "      <td>0.993016</td>\n",
       "    </tr>\n",
       "    <tr>\n",
       "      <th>98100</th>\n",
       "      <td>4697</td>\n",
       "      <td>4727</td>\n",
       "      <td>0.993653</td>\n",
       "    </tr>\n",
       "    <tr>\n",
       "      <th>98200</th>\n",
       "      <td>4699</td>\n",
       "      <td>4730</td>\n",
       "      <td>0.993446</td>\n",
       "    </tr>\n",
       "    <tr>\n",
       "      <th>98300</th>\n",
       "      <td>4704</td>\n",
       "      <td>4734</td>\n",
       "      <td>0.993663</td>\n",
       "    </tr>\n",
       "    <tr>\n",
       "      <th>98400</th>\n",
       "      <td>4709</td>\n",
       "      <td>4738</td>\n",
       "      <td>0.993879</td>\n",
       "    </tr>\n",
       "    <tr>\n",
       "      <th>98500</th>\n",
       "      <td>4712</td>\n",
       "      <td>4746</td>\n",
       "      <td>0.992836</td>\n",
       "    </tr>\n",
       "    <tr>\n",
       "      <th>98600</th>\n",
       "      <td>4716</td>\n",
       "      <td>4750</td>\n",
       "      <td>0.992842</td>\n",
       "    </tr>\n",
       "    <tr>\n",
       "      <th>98700</th>\n",
       "      <td>4720</td>\n",
       "      <td>4753</td>\n",
       "      <td>0.993057</td>\n",
       "    </tr>\n",
       "    <tr>\n",
       "      <th>98800</th>\n",
       "      <td>4725</td>\n",
       "      <td>4756</td>\n",
       "      <td>0.993482</td>\n",
       "    </tr>\n",
       "    <tr>\n",
       "      <th>98900</th>\n",
       "      <td>4733</td>\n",
       "      <td>4760</td>\n",
       "      <td>0.994328</td>\n",
       "    </tr>\n",
       "    <tr>\n",
       "      <th>99000</th>\n",
       "      <td>4738</td>\n",
       "      <td>4766</td>\n",
       "      <td>0.994125</td>\n",
       "    </tr>\n",
       "    <tr>\n",
       "      <th>99100</th>\n",
       "      <td>4743</td>\n",
       "      <td>4769</td>\n",
       "      <td>0.994548</td>\n",
       "    </tr>\n",
       "    <tr>\n",
       "      <th>99200</th>\n",
       "      <td>4749</td>\n",
       "      <td>4774</td>\n",
       "      <td>0.994763</td>\n",
       "    </tr>\n",
       "    <tr>\n",
       "      <th>99300</th>\n",
       "      <td>4754</td>\n",
       "      <td>4777</td>\n",
       "      <td>0.995185</td>\n",
       "    </tr>\n",
       "    <tr>\n",
       "      <th>99400</th>\n",
       "      <td>4758</td>\n",
       "      <td>4781</td>\n",
       "      <td>0.995189</td>\n",
       "    </tr>\n",
       "    <tr>\n",
       "      <th>99500</th>\n",
       "      <td>4762</td>\n",
       "      <td>4784</td>\n",
       "      <td>0.995401</td>\n",
       "    </tr>\n",
       "    <tr>\n",
       "      <th>99600</th>\n",
       "      <td>4765</td>\n",
       "      <td>4790</td>\n",
       "      <td>0.994781</td>\n",
       "    </tr>\n",
       "    <tr>\n",
       "      <th>99700</th>\n",
       "      <td>4767</td>\n",
       "      <td>4796</td>\n",
       "      <td>0.993953</td>\n",
       "    </tr>\n",
       "    <tr>\n",
       "      <th>99800</th>\n",
       "      <td>4773</td>\n",
       "      <td>4800</td>\n",
       "      <td>0.994375</td>\n",
       "    </tr>\n",
       "    <tr>\n",
       "      <th>99900</th>\n",
       "      <td>4779</td>\n",
       "      <td>4804</td>\n",
       "      <td>0.994796</td>\n",
       "    </tr>\n",
       "    <tr>\n",
       "      <th>100000</th>\n",
       "      <td>4783</td>\n",
       "      <td>4808</td>\n",
       "      <td>0.994800</td>\n",
       "    </tr>\n",
       "  </tbody>\n",
       "</table>\n",
       "<p>1001 rows × 3 columns</p>\n",
       "</div>"
      ],
      "text/plain": [
       "         pi1   pi3   pi1/pi3\n",
       "0          0     0       NaN\n",
       "100       11    13  0.846154\n",
       "200       21    24  0.875000\n",
       "300       29    32  0.906250\n",
       "400       37    40  0.925000\n",
       "500       44    50  0.880000\n",
       "600       51    57  0.894737\n",
       "700       59    65  0.907692\n",
       "800       67    71  0.943662\n",
       "900       74    79  0.936709\n",
       "1000      80    87  0.919540\n",
       "1100      89    94  0.946809\n",
       "1200      95   100  0.950000\n",
       "1300     104   106  0.981132\n",
       "1400     109   112  0.973214\n",
       "1500     116   122  0.950820\n",
       "1600     119   131  0.908397\n",
       "1700     128   137  0.934307\n",
       "1800     135   142  0.950704\n",
       "1900     140   149  0.939597\n",
       "2000     147   155  0.948387\n",
       "2100     153   163  0.938650\n",
       "2200     159   167  0.952096\n",
       "2300     167   174  0.959770\n",
       "2400     175   181  0.966851\n",
       "2500     180   186  0.967742\n",
       "2600     184   193  0.953368\n",
       "2700     192   200  0.960000\n",
       "2800     200   206  0.970874\n",
       "2900     206   212  0.971698\n",
       "...      ...   ...       ...\n",
       "97100   4659  4683  0.994875\n",
       "97200   4663  4689  0.994455\n",
       "97300   4665  4692  0.994246\n",
       "97400   4670  4697  0.994252\n",
       "97500   4673  4701  0.994044\n",
       "97600   4678  4707  0.993839\n",
       "97700   4682  4710  0.994055\n",
       "97800   4685  4713  0.994059\n",
       "97900   4690  4719  0.993855\n",
       "98000   4692  4725  0.993016\n",
       "98100   4697  4727  0.993653\n",
       "98200   4699  4730  0.993446\n",
       "98300   4704  4734  0.993663\n",
       "98400   4709  4738  0.993879\n",
       "98500   4712  4746  0.992836\n",
       "98600   4716  4750  0.992842\n",
       "98700   4720  4753  0.993057\n",
       "98800   4725  4756  0.993482\n",
       "98900   4733  4760  0.994328\n",
       "99000   4738  4766  0.994125\n",
       "99100   4743  4769  0.994548\n",
       "99200   4749  4774  0.994763\n",
       "99300   4754  4777  0.995185\n",
       "99400   4758  4781  0.995189\n",
       "99500   4762  4784  0.995401\n",
       "99600   4765  4790  0.994781\n",
       "99700   4767  4796  0.993953\n",
       "99800   4773  4800  0.994375\n",
       "99900   4779  4804  0.994796\n",
       "100000  4783  4808  0.994800\n",
       "\n",
       "[1001 rows x 3 columns]"
      ]
     },
     "execution_count": 48,
     "metadata": {},
     "output_type": "execute_result"
    }
   ],
   "source": [
    "T['pi1/pi3'] = T['pi1']/T['pi3']\n",
    "\n",
    "T"
   ]
  },
  {
   "cell_type": "markdown",
   "metadata": {},
   "source": [
    "#### Exercício 13:"
   ]
  },
  {
   "cell_type": "code",
   "execution_count": 142,
   "metadata": {},
   "outputs": [],
   "source": [
    "def dominio_pi1():\n",
    "    \n",
    "    \"\"\"\n",
    "    Verifica o menor valor inteiro de x tal que o número de primos menores \n",
    "    que x da forma 4n+1 (pi1(x)) é maior que os da forma 4n+3 (pi2(x)).\n",
    "    \n",
    "    :return x: menor x tal que pi1(x) > pi3(x)\n",
    "    \"\"\"\n",
    "    \n",
    "    pi1 = 0\n",
    "    pi3 = 0\n",
    "    \n",
    "    x = 3\n",
    "    while pi1 <= pi3 and x < 10**10:\n",
    "        \n",
    "        primos = crivo_eratostenes(x)\n",
    "        \n",
    "        for primo in primos:\n",
    "\n",
    "            if primo % 4 == 1:\n",
    "\n",
    "                pi1 += 1\n",
    "                \n",
    "            else:\n",
    "                pi3 += 1\n",
    "                \n",
    "        x += 2\n",
    "    \n",
    "    if pi1 < pi3:\n",
    "        \n",
    "        return \"O valor é muito grande, maior que 10^{}. Neste caso, pi1 = {} e pi3 = {}\".format(1000, pi1, pi3)\n",
    "    \n",
    "    else:\n",
    "        return x"
   ]
  },
  {
   "cell_type": "code",
   "execution_count": 143,
   "metadata": {
    "scrolled": false
   },
   "outputs": [
    {
     "ename": "KeyboardInterrupt",
     "evalue": "",
     "output_type": "error",
     "traceback": [
      "\u001b[0;31m---------------------------------------------------------------------------\u001b[0m",
      "\u001b[0;31mKeyboardInterrupt\u001b[0m                         Traceback (most recent call last)",
      "\u001b[0;32m<timed eval>\u001b[0m in \u001b[0;36m<module>\u001b[0;34m()\u001b[0m\n",
      "\u001b[0;32m<ipython-input-142-e206056b7601>\u001b[0m in \u001b[0;36mdominio_pi1\u001b[0;34m()\u001b[0m\n\u001b[1;32m     14\u001b[0m     \u001b[0;32mwhile\u001b[0m \u001b[0mpi1\u001b[0m \u001b[0;34m<=\u001b[0m \u001b[0mpi3\u001b[0m \u001b[0;32mand\u001b[0m \u001b[0mx\u001b[0m \u001b[0;34m<\u001b[0m \u001b[0;36m10\u001b[0m\u001b[0;34m**\u001b[0m\u001b[0;36m10\u001b[0m\u001b[0;34m:\u001b[0m\u001b[0;34m\u001b[0m\u001b[0m\n\u001b[1;32m     15\u001b[0m \u001b[0;34m\u001b[0m\u001b[0m\n\u001b[0;32m---> 16\u001b[0;31m         \u001b[0mprimos\u001b[0m \u001b[0;34m=\u001b[0m \u001b[0mcrivo_eratostenes\u001b[0m\u001b[0;34m(\u001b[0m\u001b[0mx\u001b[0m\u001b[0;34m)\u001b[0m\u001b[0;34m\u001b[0m\u001b[0m\n\u001b[0m\u001b[1;32m     17\u001b[0m \u001b[0;34m\u001b[0m\u001b[0m\n\u001b[1;32m     18\u001b[0m         \u001b[0;32mfor\u001b[0m \u001b[0mprimo\u001b[0m \u001b[0;32min\u001b[0m \u001b[0mprimos\u001b[0m\u001b[0;34m:\u001b[0m\u001b[0;34m\u001b[0m\u001b[0m\n",
      "\u001b[0;32m<ipython-input-24-c448de6ea1dc>\u001b[0m in \u001b[0;36mcrivo_eratostenes\u001b[0;34m(n)\u001b[0m\n\u001b[1;32m     40\u001b[0m     \u001b[0;32mfor\u001b[0m \u001b[0mi\u001b[0m \u001b[0;32min\u001b[0m \u001b[0mrange\u001b[0m\u001b[0;34m(\u001b[0m\u001b[0mlen\u001b[0m\u001b[0;34m(\u001b[0m\u001b[0mv\u001b[0m\u001b[0;34m)\u001b[0m\u001b[0;34m)\u001b[0m\u001b[0;34m:\u001b[0m\u001b[0;34m\u001b[0m\u001b[0m\n\u001b[1;32m     41\u001b[0m \u001b[0;34m\u001b[0m\u001b[0m\n\u001b[0;32m---> 42\u001b[0;31m         \u001b[0;32mif\u001b[0m \u001b[0mv\u001b[0m\u001b[0;34m[\u001b[0m\u001b[0mi\u001b[0m\u001b[0;34m]\u001b[0m \u001b[0;34m==\u001b[0m \u001b[0;36m1\u001b[0m \u001b[0;32mand\u001b[0m \u001b[0mi\u001b[0m \u001b[0;34m!=\u001b[0m \u001b[0;36m0\u001b[0m\u001b[0;34m:\u001b[0m\u001b[0;34m\u001b[0m\u001b[0m\n\u001b[0m\u001b[1;32m     43\u001b[0m \u001b[0;34m\u001b[0m\u001b[0m\n\u001b[1;32m     44\u001b[0m             \u001b[0;32mtry\u001b[0m\u001b[0;34m:\u001b[0m\u001b[0;34m\u001b[0m\u001b[0m\n",
      "\u001b[0;31mKeyboardInterrupt\u001b[0m: "
     ]
    }
   ],
   "source": [
    "%%time\n",
    "\n",
    "dominio_pi1()"
   ]
  },
  {
   "cell_type": "markdown",
   "metadata": {},
   "source": [
    "### Capítulo 4: Aritmética Modular"
   ]
  },
  {
   "cell_type": "markdown",
   "metadata": {},
   "source": [
    "#### Exercício 11:"
   ]
  },
  {
   "cell_type": "code",
   "execution_count": 51,
   "metadata": {},
   "outputs": [],
   "source": [
    "def modulo_potencia(a, k, m, texto=True):\n",
    "    \n",
    "    \"\"\"\n",
    "    Calcula a forma reduzida de a^k em Z_m\n",
    "    \n",
    "    :param a: inteiro\n",
    "    :param k: inteiro positivo\n",
    "    :param m: inteiro positivo\n",
    "    \n",
    "    :return a_m: forma reduzida de a^k mod m\n",
    "    \"\"\"\n",
    "    \n",
    "    A = a\n",
    "    P = 1\n",
    "    E = k        \n",
    "    \n",
    "    while E != 0:\n",
    "        \n",
    "        if E % 2 == 1:\n",
    "\n",
    "            P = (A*P) % m\n",
    "            E = (E-1)/2\n",
    "\n",
    "        else:\n",
    "\n",
    "            E = E/2\n",
    "\n",
    "        A = A**2 % m\n",
    "        \n",
    "    if texto == True:\n",
    "        print(\"{}^{} = {} mod {}\".format(a, k, P, m))\n",
    "        \n",
    "    return P"
   ]
  },
  {
   "cell_type": "markdown",
   "metadata": {},
   "source": [
    "Tomando como exemplo o exercício 3:"
   ]
  },
  {
   "cell_type": "code",
   "execution_count": 52,
   "metadata": {},
   "outputs": [
    {
     "name": "stdout",
     "output_type": "stream",
     "text": [
      "5^20 = 4 mod 7\n"
     ]
    },
    {
     "data": {
      "text/plain": [
       "4"
      ]
     },
     "execution_count": 52,
     "metadata": {},
     "output_type": "execute_result"
    }
   ],
   "source": [
    "modulo_potencia(5, 20, 7)"
   ]
  },
  {
   "cell_type": "code",
   "execution_count": 53,
   "metadata": {},
   "outputs": [
    {
     "name": "stdout",
     "output_type": "stream",
     "text": [
      "7^1001 = 7 mod 11\n"
     ]
    },
    {
     "data": {
      "text/plain": [
       "7"
      ]
     },
     "execution_count": 53,
     "metadata": {},
     "output_type": "execute_result"
    }
   ],
   "source": [
    "modulo_potencia(7, 1001, 11)"
   ]
  },
  {
   "cell_type": "code",
   "execution_count": 54,
   "metadata": {},
   "outputs": [
    {
     "name": "stdout",
     "output_type": "stream",
     "text": [
      "2^130 = 132 mod 263\n"
     ]
    },
    {
     "data": {
      "text/plain": [
       "132"
      ]
     },
     "execution_count": 54,
     "metadata": {},
     "output_type": "execute_result"
    }
   ],
   "source": [
    "modulo_potencia(2, 130, 263)"
   ]
  },
  {
   "cell_type": "code",
   "execution_count": 55,
   "metadata": {},
   "outputs": [
    {
     "name": "stdout",
     "output_type": "stream",
     "text": [
      "13^221 = 14 mod 19\n"
     ]
    },
    {
     "data": {
      "text/plain": [
       "14"
      ]
     },
     "execution_count": 55,
     "metadata": {},
     "output_type": "execute_result"
    }
   ],
   "source": [
    "modulo_potencia(13, 221, 19)"
   ]
  },
  {
   "cell_type": "markdown",
   "metadata": {},
   "source": [
    "### Capítulo 5: Indução e Fermat"
   ]
  },
  {
   "cell_type": "markdown",
   "metadata": {},
   "source": [
    "#### Exercício 16:"
   ]
  },
  {
   "cell_type": "markdown",
   "metadata": {},
   "source": [
    "A partir do pequeno teorema de Fermat, sabemos que, se $p$ é primo e $p \\nmid a$:\n",
    "    \n",
    "$a^{p-1} \\equiv 1 \\textrm{ mod } p \\rightarrow a^{p-2}a \\equiv 1 \\textrm{ mod } p$\n",
    "\n",
    "Logo, $\\overline{a}^{-1} = \\overline{a}^{p-2}$."
   ]
  },
  {
   "cell_type": "code",
   "execution_count": 56,
   "metadata": {},
   "outputs": [],
   "source": [
    "def modulo_inverso(a, p):\n",
    "    \n",
    "    \"\"\"\n",
    "    Calcula o inverso de a mod p\n",
    "    \n",
    "    :param a: inteiro não divisível por p\n",
    "    :param p: primo\n",
    "    \n",
    "    :return i: inverso de \n",
    "    \"\"\"\n",
    "    \n",
    "    if a % p == 0:\n",
    "        \n",
    "        return \"Entradas inválidas: {} é divisor de {}\".format(p, a)\n",
    "    \n",
    "    else:\n",
    "        \n",
    "        i = modulo_potencia(a, p-2, p)\n",
    "        \n",
    "        print(\"\\nA classe inversa de {} em Zp é [n : n mod {} = {}]\".format(a, p, i))\n",
    "        return i"
   ]
  },
  {
   "cell_type": "code",
   "execution_count": 57,
   "metadata": {},
   "outputs": [
    {
     "name": "stdout",
     "output_type": "stream",
     "text": [
      "221^17 = 8 mod 19\n",
      "\n",
      "A classe inversa de 221 em Zp é [n : n mod 19 = 8]\n"
     ]
    },
    {
     "data": {
      "text/plain": [
       "8"
      ]
     },
     "execution_count": 57,
     "metadata": {},
     "output_type": "execute_result"
    }
   ],
   "source": [
    "modulo_inverso(221, 19)"
   ]
  },
  {
   "cell_type": "code",
   "execution_count": 58,
   "metadata": {
    "scrolled": true
   },
   "outputs": [
    {
     "data": {
      "text/plain": [
       "1"
      ]
     },
     "execution_count": 58,
     "metadata": {},
     "output_type": "execute_result"
    }
   ],
   "source": [
    "221*8 % 19"
   ]
  },
  {
   "cell_type": "markdown",
   "metadata": {},
   "source": [
    "Sabendo $\\overline{a}^{-1}$ em $\\mathbb{Z}_{p}$, podemos resolver o sistema $ax \\equiv b \\textrm{ mod } p \\rightarrow x \\equiv b{a}^{-1} \\textrm{ mod } p$"
   ]
  },
  {
   "cell_type": "code",
   "execution_count": 59,
   "metadata": {},
   "outputs": [],
   "source": [
    "def modulo_sol_equacao(a, b, p):\n",
    "    \n",
    "    \"\"\"\n",
    "    Resolve a equação ax = b em Zp\n",
    "    \n",
    "    :param a: inteiro não divisível por p\n",
    "    :param b: inteiro\n",
    "    :param p: primo\n",
    "    \n",
    "    :return x: solução da equação \n",
    "    \"\"\"\n",
    "    \n",
    "    i = modulo_inverso(a, p)\n",
    "    x = i*b\n",
    "    \n",
    "    print(\"\\nA solução é dada pela classe [x : x mod {} = {}]\".format(p, x))\n",
    "    return x"
   ]
  },
  {
   "cell_type": "markdown",
   "metadata": {},
   "source": [
    "Utilizando dois exemplos adaptados do exercício 6 do capítulo 4:"
   ]
  },
  {
   "cell_type": "markdown",
   "metadata": {},
   "source": [
    "$3x - 2 \\equiv 0 \\ (\\textrm{mod}\\ 5)$"
   ]
  },
  {
   "cell_type": "code",
   "execution_count": 60,
   "metadata": {
    "scrolled": true
   },
   "outputs": [
    {
     "name": "stdout",
     "output_type": "stream",
     "text": [
      "3^3 = 2 mod 5\n",
      "\n",
      "A classe inversa de 3 em Zp é [n : n mod 5 = 2]\n",
      "\n",
      "A solução é dada pela classe [x : x mod 5 = 4]\n"
     ]
    },
    {
     "data": {
      "text/plain": [
       "4"
      ]
     },
     "execution_count": 60,
     "metadata": {},
     "output_type": "execute_result"
    }
   ],
   "source": [
    "modulo_sol_equacao(3, 2, 5)"
   ]
  },
  {
   "cell_type": "code",
   "execution_count": 61,
   "metadata": {},
   "outputs": [
    {
     "data": {
      "text/plain": [
       "2"
      ]
     },
     "execution_count": 61,
     "metadata": {},
     "output_type": "execute_result"
    }
   ],
   "source": [
    "4*3 % 5"
   ]
  },
  {
   "cell_type": "markdown",
   "metadata": {},
   "source": [
    "$2x -1 \\equiv 0 \\ (\\textrm{mod}\\ 13)$"
   ]
  },
  {
   "cell_type": "code",
   "execution_count": 62,
   "metadata": {},
   "outputs": [
    {
     "name": "stdout",
     "output_type": "stream",
     "text": [
      "2^11 = 7 mod 13\n",
      "\n",
      "A classe inversa de 2 em Zp é [n : n mod 13 = 7]\n",
      "\n",
      "A solução é dada pela classe [x : x mod 13 = 7]\n"
     ]
    },
    {
     "data": {
      "text/plain": [
       "7"
      ]
     },
     "execution_count": 62,
     "metadata": {},
     "output_type": "execute_result"
    }
   ],
   "source": [
    "modulo_sol_equacao(2, 1, 13)"
   ]
  },
  {
   "cell_type": "markdown",
   "metadata": {},
   "source": [
    "#### Exercício 17:"
   ]
  },
  {
   "cell_type": "code",
   "execution_count": 63,
   "metadata": {},
   "outputs": [],
   "source": [
    "def modulo_sol_quadrado(a, p):\n",
    "    \n",
    "    \"\"\"\n",
    "    Calcula a solução de x² mod p = a, sendo p mod 4 = 3\n",
    "    \n",
    "    :param a: inteiro positivo\n",
    "    :param p: primo positivo tal que p mod 4 = 3\n",
    "    \n",
    "    :return x: solução da equação\n",
    "    \"\"\"\n",
    "\n",
    "    k = (p-3)/4\n",
    "    \n",
    "    b1 = modulo_potencia(a, k+1, p)\n",
    "    b2 = modulo_potencia(-a, k+1, p)\n",
    "    \n",
    "    if (b1**2 % p == a) and (b2**2 % p == a):\n",
    "        \n",
    "        print(\"\\nAs soluções para x² mod {} = {} são:\".format(p, a))\n",
    "        return b1, b2\n",
    "    \n",
    "    else:\n",
    "        \n",
    "        print(\"\\nA equação dada não tem solução.\")\n"
   ]
  },
  {
   "cell_type": "code",
   "execution_count": 64,
   "metadata": {},
   "outputs": [
    {
     "name": "stdout",
     "output_type": "stream",
     "text": [
      "4^3.0 = 9 mod 11\n",
      "-4^3.0 = 2 mod 11\n",
      "\n",
      "As soluções para x² mod 11 = 4 são:\n"
     ]
    },
    {
     "data": {
      "text/plain": [
       "(9, 2)"
      ]
     },
     "execution_count": 64,
     "metadata": {},
     "output_type": "execute_result"
    }
   ],
   "source": [
    "p = 11\n",
    "a = 4\n",
    "\n",
    "modulo_sol_quadrado(a, p)"
   ]
  },
  {
   "cell_type": "code",
   "execution_count": 65,
   "metadata": {
    "scrolled": true
   },
   "outputs": [
    {
     "name": "stdout",
     "output_type": "stream",
     "text": [
      "5^17.0 = 53 mod 67\n",
      "-5^17.0 = 14 mod 67\n",
      "\n",
      "A equação dada não tem solução.\n"
     ]
    }
   ],
   "source": [
    "p = 67\n",
    "a = 5\n",
    "\n",
    "modulo_sol_quadrado(a, p)"
   ]
  },
  {
   "cell_type": "markdown",
   "metadata": {},
   "source": [
    "#### Exercício 18:"
   ]
  },
  {
   "cell_type": "code",
   "execution_count": 66,
   "metadata": {},
   "outputs": [
    {
     "data": {
      "text/plain": [
       "[3, 5, 7, 11, 13]"
      ]
     },
     "execution_count": 66,
     "metadata": {},
     "output_type": "execute_result"
    }
   ],
   "source": [
    "crivo_eratostenes(15)"
   ]
  },
  {
   "cell_type": "code",
   "execution_count": 67,
   "metadata": {},
   "outputs": [],
   "source": [
    "def teste_Fermat(a, r):\n",
    "    \n",
    "    \"\"\"\n",
    "    Determina os primos p que satisfazem a^(p-1) mod p² = 1 tais que a+1 <= p <=r\n",
    "    \n",
    "    :param a: inteiro positivo maior que 1\n",
    "    :param r: inteiro positivo\n",
    "    \n",
    "    :return primos: lista de primos que satisfazem às condições\n",
    "    \"\"\"\n",
    "    \n",
    "    primos_total = set(crivo_eratostenes(r)) - set(crivo_eratostenes(a))\n",
    "    \n",
    "    primos = []\n",
    "    for p in primos_total:\n",
    "        \n",
    "        b = modulo_potencia(a, p-1, p**2, texto=False)\n",
    "        \n",
    "        if b == 1:\n",
    "            \n",
    "            primos.append(p)\n",
    "            \n",
    "    return primos"
   ]
  },
  {
   "cell_type": "code",
   "execution_count": 83,
   "metadata": {},
   "outputs": [
    {
     "name": "stdout",
     "output_type": "stream",
     "text": [
      "CPU times: user 368 ms, sys: 4 ms, total: 372 ms\n",
      "Wall time: 368 ms\n"
     ]
    },
    {
     "data": {
      "text/plain": [
       "[1093, 3511]"
      ]
     },
     "execution_count": 83,
     "metadata": {},
     "output_type": "execute_result"
    }
   ],
   "source": [
    "%%time\n",
    "\n",
    "teste_Fermat(2, 10**5)"
   ]
  },
  {
   "cell_type": "code",
   "execution_count": 84,
   "metadata": {},
   "outputs": [
    {
     "name": "stdout",
     "output_type": "stream",
     "text": [
      "CPU times: user 444 ms, sys: 0 ns, total: 444 ms\n",
      "Wall time: 444 ms\n"
     ]
    },
    {
     "data": {
      "text/plain": [
       "[40487, 20771]"
      ]
     },
     "execution_count": 84,
     "metadata": {},
     "output_type": "execute_result"
    }
   ],
   "source": [
    "%%time\n",
    "\n",
    "teste_Fermat(5, 10**5)"
   ]
  },
  {
   "cell_type": "code",
   "execution_count": 85,
   "metadata": {},
   "outputs": [
    {
     "name": "stdout",
     "output_type": "stream",
     "text": [
      "CPU times: user 320 ms, sys: 0 ns, total: 320 ms\n",
      "Wall time: 319 ms\n"
     ]
    },
    {
     "data": {
      "text/plain": [
       "[487]"
      ]
     },
     "execution_count": 85,
     "metadata": {},
     "output_type": "execute_result"
    }
   ],
   "source": [
    "%%time\n",
    "\n",
    "teste_Fermat(10, 10**5)"
   ]
  },
  {
   "cell_type": "code",
   "execution_count": 86,
   "metadata": {},
   "outputs": [
    {
     "name": "stdout",
     "output_type": "stream",
     "text": [
      "CPU times: user 280 ms, sys: 4 ms, total: 284 ms\n",
      "Wall time: 282 ms\n"
     ]
    },
    {
     "data": {
      "text/plain": [
       "[29, 353]"
      ]
     },
     "execution_count": 86,
     "metadata": {},
     "output_type": "execute_result"
    }
   ],
   "source": [
    "%%time\n",
    "\n",
    "teste_Fermat(14, 10**5)"
   ]
  },
  {
   "cell_type": "code",
   "execution_count": 87,
   "metadata": {},
   "outputs": [
    {
     "name": "stdout",
     "output_type": "stream",
     "text": [
      "CPU times: user 332 ms, sys: 0 ns, total: 332 ms\n",
      "Wall time: 330 ms\n"
     ]
    },
    {
     "data": {
      "text/plain": [
       "[43, 137]"
      ]
     },
     "execution_count": 87,
     "metadata": {},
     "output_type": "execute_result"
    }
   ],
   "source": [
    "%%time\n",
    "\n",
    "teste_Fermat(19, 10**5)"
   ]
  },
  {
   "cell_type": "markdown",
   "metadata": {},
   "source": [
    "### Capítulo 6: Pseudoprimos"
   ]
  },
  {
   "cell_type": "markdown",
   "metadata": {},
   "source": [
    "#### Exercício 8:"
   ]
  },
  {
   "cell_type": "code",
   "execution_count": 183,
   "metadata": {},
   "outputs": [],
   "source": [
    "def lista_impares(n):\n",
    "    \n",
    "    \"\"\"\n",
    "    Lista os ímpares compostos menores ou iguais a n.\n",
    "    \n",
    "    :param n: inteiro positivo\n",
    "    \n",
    "    :return primos: lista de ímpares compostos menores ou iguais a n \n",
    "    \"\"\"\n",
    "    \n",
    "    primos = crivo_eratostenes(n)\n",
    "    impares = set(range(3, n, 2)) - set(primos)\n",
    "    \n",
    "    return impares\n",
    "\n",
    "def pseudoprimos_2_3(r):\n",
    "    \n",
    "    \"\"\"\n",
    "    Determina todos os números entre 1 e r que são pseudoprimos para as bases 2 e 3.\n",
    "    \n",
    "    :param r: inteiro positivo\n",
    "    \n",
    "    :return pseudoprimos: lista de pseudoprimos entre 1 e r para as bases 2 e 3\n",
    "    \"\"\"\n",
    "    \n",
    "    impares_comp = lista_impares(r)\n",
    "    \n",
    "    pseudoprimos = []\n",
    "    for n in impares_comp:\n",
    "        \n",
    "        b2 = modulo_potencia(2, n-1, n, texto=False)\n",
    "        b3 = modulo_potencia(3, n-1, n, texto=False)\n",
    "        \n",
    "        if b2 == b3 == 1:\n",
    "            \n",
    "            pseudoprimos.append(n)\n",
    "    \n",
    "    print(\"Existem {} pseudoprimos de 2 e 3 entre 1 e r\\n\".format(len(pseudoprimos)))\n",
    "    return pseudoprimos"
   ]
  },
  {
   "cell_type": "code",
   "execution_count": 184,
   "metadata": {},
   "outputs": [
    {
     "name": "stdout",
     "output_type": "stream",
     "text": [
      "Existem 23 pseudoprimos de 2 e 3 entre 1 e r\n",
      "\n",
      "CPU times: user 1.6 s, sys: 12 ms, total: 1.62 s\n",
      "Wall time: 1.61 s\n"
     ]
    }
   ],
   "source": [
    "%%time\n",
    "\n",
    "p = pseudoprimos_2_3(10**5) "
   ]
  },
  {
   "cell_type": "code",
   "execution_count": 185,
   "metadata": {},
   "outputs": [
    {
     "data": {
      "text/plain": [
       "[1105,\n",
       " 1729,\n",
       " 2465,\n",
       " 2701,\n",
       " 2821,\n",
       " 6601,\n",
       " 8911,\n",
       " 10585,\n",
       " 15841,\n",
       " 18721,\n",
       " 29341,\n",
       " 31621,\n",
       " 41041,\n",
       " 46657,\n",
       " 49141,\n",
       " 52633,\n",
       " 63973,\n",
       " 75361,\n",
       " 83333,\n",
       " 83665,\n",
       " 88561,\n",
       " 90751,\n",
       " 93961]"
      ]
     },
     "execution_count": 185,
     "metadata": {},
     "output_type": "execute_result"
    }
   ],
   "source": [
    "p"
   ]
  },
  {
   "cell_type": "markdown",
   "metadata": {},
   "source": [
    "Um número de Carmichael é um número composto ímpar $n$ tal que $b^n \\equiv b \\textrm{ mod } n, \\forall  b \\in (1, n-1)$"
   ]
  },
  {
   "cell_type": "code",
   "execution_count": 186,
   "metadata": {},
   "outputs": [],
   "source": [
    "def carmichael(n):\n",
    "    \n",
    "    \"\"\"\n",
    "    Filtra os números de Carmichael numa lista.\n",
    "    \n",
    "    :param n: lista com n números \n",
    "    \n",
    "    :return n_carmichael: números de Carmichael na lista\n",
    "    \"\"\"\n",
    "    \n",
    "    n_carmichael = []\n",
    "    for i in n:\n",
    "        \n",
    "        check = True\n",
    "        for b in range(1, i):\n",
    "            \n",
    "            b_i = modulo_potencia(b, i, i, texto=False)\n",
    "            \n",
    "            if b_i != b:\n",
    "                \n",
    "                check = False\n",
    "                break\n",
    "                \n",
    "        if check:\n",
    "            \n",
    "            n_carmichael.append(i)\n",
    "    \n",
    "    print(\"Existem {} números de Carmichael na lista\\n\".format(len(n_carmichael)))\n",
    "    return n_carmichael"
   ]
  },
  {
   "cell_type": "code",
   "execution_count": 187,
   "metadata": {},
   "outputs": [
    {
     "name": "stdout",
     "output_type": "stream",
     "text": [
      "Existem 14 números de Carmichael na lista\n",
      "\n",
      "CPU times: user 6.03 s, sys: 20 ms, total: 6.05 s\n",
      "Wall time: 6.06 s\n"
     ]
    }
   ],
   "source": [
    "%%time\n",
    "\n",
    "n = carmichael(p)"
   ]
  },
  {
   "cell_type": "code",
   "execution_count": 188,
   "metadata": {},
   "outputs": [
    {
     "data": {
      "text/plain": [
       "[1105,\n",
       " 1729,\n",
       " 2465,\n",
       " 2821,\n",
       " 6601,\n",
       " 8911,\n",
       " 10585,\n",
       " 15841,\n",
       " 29341,\n",
       " 41041,\n",
       " 46657,\n",
       " 52633,\n",
       " 63973,\n",
       " 75361]"
      ]
     },
     "execution_count": 188,
     "metadata": {},
     "output_type": "execute_result"
    }
   ],
   "source": [
    "n"
   ]
  },
  {
   "cell_type": "markdown",
   "metadata": {},
   "source": [
    "#### Exercício 9:"
   ]
  },
  {
   "cell_type": "code",
   "execution_count": 234,
   "metadata": {},
   "outputs": [],
   "source": [
    "def prod_carmichael(d, primos):\n",
    "    \n",
    "    \"\"\"\n",
    "    Determina todos os números de Carmichael menores que 1000 que são produtos de d primos\n",
    "    \n",
    "    :param d: número de fatores primos escolhido\n",
    "    \n",
    "    :return n_carmichael: lista dos números de Carmichael com d fatores primos\n",
    "    \"\"\"\n",
    "    \n",
    "    produtos = list(combinations(primos, d))\n",
    "    n_carmichael = []\n",
    "    \n",
    "    for produto in produtos:\n",
    "        \n",
    "        # começamos assumindo que é um Carmichael: \"inocente até que se prove o contrário!\"\n",
    "        div = True \n",
    "        for p in produto:\n",
    "            \n",
    "            p_n = 1\n",
    "\n",
    "            # vamos reduzir n em Z(p-1) a partir de seus fatores:\n",
    "            for p_j in produto:\n",
    "\n",
    "                p_n = p_n * p_j\n",
    "                p_n = p_n % (p-1)\n",
    "\n",
    "            # já que p_n e n são da mesma classe em Z(p-1), \n",
    "            # basta verificar se p_n mod (p-1) != 1, o que \n",
    "            # significa que n não é Carmichael\n",
    "            if p_n % (p-1) != 1:\n",
    "                \n",
    "                div = False\n",
    "                break\n",
    "        \n",
    "        if div:\n",
    "            n_carmichael.append(produto)\n",
    "    \n",
    "    return n_carmichael"
   ]
  },
  {
   "cell_type": "code",
   "execution_count": 242,
   "metadata": {},
   "outputs": [],
   "source": [
    "primos = crivo_eratostenes(1000)"
   ]
  },
  {
   "cell_type": "code",
   "execution_count": 243,
   "metadata": {},
   "outputs": [
    {
     "name": "stdout",
     "output_type": "stream",
     "text": [
      "CPU times: user 0 ns, sys: 0 ns, total: 0 ns\n",
      "Wall time: 667 µs\n"
     ]
    },
    {
     "data": {
      "text/plain": [
       "[(3,),\n",
       " (5,),\n",
       " (7,),\n",
       " (11,),\n",
       " (13,),\n",
       " (17,),\n",
       " (19,),\n",
       " (23,),\n",
       " (29,),\n",
       " (31,),\n",
       " (37,),\n",
       " (41,),\n",
       " (43,),\n",
       " (47,),\n",
       " (53,),\n",
       " (59,),\n",
       " (61,),\n",
       " (67,),\n",
       " (71,),\n",
       " (73,),\n",
       " (79,),\n",
       " (83,),\n",
       " (89,),\n",
       " (97,),\n",
       " (101,),\n",
       " (103,),\n",
       " (107,),\n",
       " (109,),\n",
       " (113,),\n",
       " (127,),\n",
       " (131,),\n",
       " (137,),\n",
       " (139,),\n",
       " (149,),\n",
       " (151,),\n",
       " (157,),\n",
       " (163,),\n",
       " (167,),\n",
       " (173,),\n",
       " (179,),\n",
       " (181,),\n",
       " (191,),\n",
       " (193,),\n",
       " (197,),\n",
       " (199,),\n",
       " (211,),\n",
       " (223,),\n",
       " (227,),\n",
       " (229,),\n",
       " (233,),\n",
       " (239,),\n",
       " (241,),\n",
       " (251,),\n",
       " (257,),\n",
       " (263,),\n",
       " (269,),\n",
       " (271,),\n",
       " (277,),\n",
       " (281,),\n",
       " (283,),\n",
       " (293,),\n",
       " (307,),\n",
       " (311,),\n",
       " (313,),\n",
       " (317,),\n",
       " (331,),\n",
       " (337,),\n",
       " (347,),\n",
       " (349,),\n",
       " (353,),\n",
       " (359,),\n",
       " (367,),\n",
       " (373,),\n",
       " (379,),\n",
       " (383,),\n",
       " (389,),\n",
       " (397,),\n",
       " (401,),\n",
       " (409,),\n",
       " (419,),\n",
       " (421,),\n",
       " (431,),\n",
       " (433,),\n",
       " (439,),\n",
       " (443,),\n",
       " (449,),\n",
       " (457,),\n",
       " (461,),\n",
       " (463,),\n",
       " (467,),\n",
       " (479,),\n",
       " (487,),\n",
       " (491,),\n",
       " (499,),\n",
       " (503,),\n",
       " (509,),\n",
       " (521,),\n",
       " (523,),\n",
       " (541,),\n",
       " (547,),\n",
       " (557,),\n",
       " (563,),\n",
       " (569,),\n",
       " (571,),\n",
       " (577,),\n",
       " (587,),\n",
       " (593,),\n",
       " (599,),\n",
       " (601,),\n",
       " (607,),\n",
       " (613,),\n",
       " (617,),\n",
       " (619,),\n",
       " (631,),\n",
       " (641,),\n",
       " (643,),\n",
       " (647,),\n",
       " (653,),\n",
       " (659,),\n",
       " (661,),\n",
       " (673,),\n",
       " (677,),\n",
       " (683,),\n",
       " (691,),\n",
       " (701,),\n",
       " (709,),\n",
       " (719,),\n",
       " (727,),\n",
       " (733,),\n",
       " (739,),\n",
       " (743,),\n",
       " (751,),\n",
       " (757,),\n",
       " (761,),\n",
       " (769,),\n",
       " (773,),\n",
       " (787,),\n",
       " (797,),\n",
       " (809,),\n",
       " (811,),\n",
       " (821,),\n",
       " (823,),\n",
       " (827,),\n",
       " (829,),\n",
       " (839,),\n",
       " (853,),\n",
       " (857,),\n",
       " (859,),\n",
       " (863,),\n",
       " (877,),\n",
       " (881,),\n",
       " (883,),\n",
       " (887,),\n",
       " (907,),\n",
       " (911,),\n",
       " (919,),\n",
       " (929,),\n",
       " (937,),\n",
       " (941,),\n",
       " (947,),\n",
       " (953,),\n",
       " (967,),\n",
       " (971,),\n",
       " (977,),\n",
       " (983,),\n",
       " (991,),\n",
       " (997,)]"
      ]
     },
     "execution_count": 243,
     "metadata": {},
     "output_type": "execute_result"
    }
   ],
   "source": [
    "%%time\n",
    "\n",
    "prod_carmichael(1, primos)"
   ]
  },
  {
   "cell_type": "code",
   "execution_count": 244,
   "metadata": {},
   "outputs": [
    {
     "name": "stdout",
     "output_type": "stream",
     "text": [
      "CPU times: user 20 ms, sys: 0 ns, total: 20 ms\n",
      "Wall time: 20.1 ms\n"
     ]
    },
    {
     "data": {
      "text/plain": [
       "[]"
      ]
     },
     "execution_count": 244,
     "metadata": {},
     "output_type": "execute_result"
    }
   ],
   "source": [
    "%%time \n",
    "prod_carmichael(2, primos)"
   ]
  },
  {
   "cell_type": "code",
   "execution_count": 245,
   "metadata": {},
   "outputs": [
    {
     "name": "stdout",
     "output_type": "stream",
     "text": [
      "CPU times: user 944 ms, sys: 56 ms, total: 1e+03 ms\n",
      "Wall time: 997 ms\n"
     ]
    },
    {
     "data": {
      "text/plain": [
       "[(3, 11, 17),\n",
       " (5, 13, 17),\n",
       " (5, 17, 29),\n",
       " (5, 29, 73),\n",
       " (7, 13, 19),\n",
       " (7, 13, 31),\n",
       " (7, 19, 67),\n",
       " (7, 23, 41),\n",
       " (7, 31, 73),\n",
       " (7, 73, 103),\n",
       " (13, 37, 61),\n",
       " (13, 37, 97),\n",
       " (13, 37, 241),\n",
       " (13, 61, 397),\n",
       " (13, 97, 421),\n",
       " (17, 41, 233),\n",
       " (19, 43, 409),\n",
       " (19, 199, 271),\n",
       " (23, 199, 353),\n",
       " (29, 197, 953),\n",
       " (31, 61, 211),\n",
       " (31, 61, 271),\n",
       " (31, 61, 631),\n",
       " (31, 181, 331),\n",
       " (31, 271, 601),\n",
       " (37, 73, 109),\n",
       " (37, 73, 181),\n",
       " (37, 73, 541),\n",
       " (41, 61, 101),\n",
       " (41, 73, 137),\n",
       " (41, 101, 461),\n",
       " (41, 241, 521),\n",
       " (41, 241, 761),\n",
       " (43, 127, 211),\n",
       " (43, 211, 337),\n",
       " (43, 211, 757),\n",
       " (43, 433, 643),\n",
       " (43, 547, 673),\n",
       " (53, 79, 599),\n",
       " (53, 157, 521),\n",
       " (61, 241, 421),\n",
       " (61, 271, 571),\n",
       " (67, 331, 463),\n",
       " (71, 271, 521),\n",
       " (71, 421, 491),\n",
       " (71, 631, 701),\n",
       " (73, 379, 523),\n",
       " (89, 353, 617),\n",
       " (97, 673, 769),\n",
       " (101, 151, 251),\n",
       " (109, 163, 379),\n",
       " (109, 379, 919),\n",
       " (113, 337, 449),\n",
       " (139, 691, 829),\n",
       " (151, 211, 541),\n",
       " (151, 601, 751),\n",
       " (163, 487, 811),\n",
       " (181, 631, 811),\n",
       " (191, 421, 431),\n",
       " (211, 281, 491),\n",
       " (211, 421, 631),\n",
       " (271, 541, 811),\n",
       " (281, 421, 701),\n",
       " (281, 617, 673),\n",
       " (307, 613, 919),\n",
       " (331, 661, 991)]"
      ]
     },
     "execution_count": 245,
     "metadata": {},
     "output_type": "execute_result"
    }
   ],
   "source": [
    "%%time\n",
    "\n",
    "prod_carmichael(3, primos)"
   ]
  },
  {
   "cell_type": "markdown",
   "metadata": {},
   "source": [
    "#### Exercício 10:"
   ]
  },
  {
   "cell_type": "code",
   "execution_count": 190,
   "metadata": {},
   "outputs": [],
   "source": [
    "def teste_Miller(n, b):\n",
    "    \n",
    "    \"\"\"\n",
    "    Verifica se n é composto.\n",
    "    \n",
    "    :param n: inteiro positivo ímpar\n",
    "    \n",
    "    :return bol: True/False\n",
    "    \"\"\"\n",
    "    \n",
    "    q = n-1\n",
    "    k=0\n",
    "    while q % 2 == 0:\n",
    "        \n",
    "        q = q/2\n",
    "        k +=1\n",
    "        \n",
    "    i = 0\n",
    "    r = b**q % n\n",
    "    \n",
    "    while i < k:\n",
    "        \n",
    "        if (i != 0 or r != 1) and (r != n-1 or i < 0):\n",
    "\n",
    "            i += 1\n",
    "            r = r**2 % n\n",
    "            \n",
    "        else:\n",
    "            \n",
    "            # teste inconclusivo\n",
    "            return False\n",
    "    \n",
    "    # n composto\n",
    "    return True\n",
    "        \n",
    "\n",
    "def min_pseudo_forte(b, M):\n",
    "    \n",
    "    \"\"\"\n",
    "    Determina o menor pseudoprimo forte para a base b menor que M.\n",
    "    \n",
    "    :param b: inteiro positivo maior que 1\n",
    "    :param M: inteiro positivo\n",
    "    \n",
    "    :return n: menor pseudoprimo forte para a base b    \n",
    "    \"\"\"\n",
    "    \n",
    "    n = list(lista_impares(M))\n",
    "    \n",
    "    for i in n:\n",
    "        \n",
    "        check = teste_Miller(i, b)\n",
    "        \n",
    "        if not check:\n",
    "            \n",
    "            return i\n",
    "        \n",
    "    return "
   ]
  },
  {
   "cell_type": "code",
   "execution_count": 201,
   "metadata": {},
   "outputs": [
    {
     "data": {
      "text/plain": [
       "False"
      ]
     },
     "execution_count": 201,
     "metadata": {},
     "output_type": "execute_result"
    }
   ],
   "source": [
    "teste_Miller(75, 3)"
   ]
  },
  {
   "cell_type": "code",
   "execution_count": 194,
   "metadata": {
    "scrolled": false
   },
   "outputs": [
    {
     "data": {
      "text/plain": [
       "2047"
      ]
     },
     "execution_count": 194,
     "metadata": {},
     "output_type": "execute_result"
    }
   ],
   "source": [
    "min_pseudo_forte(2, 10**5)"
   ]
  },
  {
   "cell_type": "code",
   "execution_count": 195,
   "metadata": {},
   "outputs": [
    {
     "data": {
      "text/plain": [
       "75"
      ]
     },
     "execution_count": 195,
     "metadata": {},
     "output_type": "execute_result"
    }
   ],
   "source": [
    "min_pseudo_forte(3, 10**5)"
   ]
  },
  {
   "cell_type": "code",
   "execution_count": 197,
   "metadata": {},
   "outputs": [
    {
     "data": {
      "text/plain": [
       "247"
      ]
     },
     "execution_count": 197,
     "metadata": {},
     "output_type": "execute_result"
    }
   ],
   "source": [
    "min_pseudo_forte(5, 10**5)"
   ]
  },
  {
   "cell_type": "code",
   "execution_count": 199,
   "metadata": {},
   "outputs": [
    {
     "data": {
      "text/plain": [
       "25"
      ]
     },
     "execution_count": 199,
     "metadata": {},
     "output_type": "execute_result"
    }
   ],
   "source": [
    "min_pseudo_forte(7, 10**5)"
   ]
  },
  {
   "cell_type": "markdown",
   "metadata": {},
   "source": [
    "#### Exercício 11:"
   ]
  },
  {
   "cell_type": "code",
   "execution_count": 118,
   "metadata": {},
   "outputs": [],
   "source": [
    "def pseudoprimos_2_p2(r):\n",
    "    \n",
    "    \"\"\"\n",
    "    Determina os pseudoprimos p para a base 2 da forma p²\n",
    "    \n",
    "    :param r: valor máximo para p\n",
    "    \n",
    "    :return pseudo_2: lista dos pseudoprimos em questão\n",
    "    \"\"\"\n",
    "    \n",
    "    primos = crivo_eratostenes(r)\n",
    "    \n",
    "    pseudo_2 = []\n",
    "    for p in primos:\n",
    "        \n",
    "        # Precisamos verificar se 2^(p²) mod p² = 2:\n",
    "        a = modulo_potencia(2, p, p**2, texto=False)\n",
    "        a = modulo_potencia(a, p, p**2, texto=False)\n",
    "        \n",
    "        if a == 2:\n",
    "            \n",
    "            pseudo_2.append(p)\n",
    "    \n",
    "    print(\"Existem {} pseudoprimos de 2 da forma p² menores que r\\n\".format(len(pseudo_2)))\n",
    "    return pseudo_2"
   ]
  },
  {
   "cell_type": "code",
   "execution_count": 119,
   "metadata": {},
   "outputs": [
    {
     "name": "stdout",
     "output_type": "stream",
     "text": [
      "Existem 2 pseudoprimos de 2 da forma p² menores que r\n",
      "\n"
     ]
    },
    {
     "data": {
      "text/plain": [
       "[1093, 3511]"
      ]
     },
     "execution_count": 119,
     "metadata": {},
     "output_type": "execute_result"
    }
   ],
   "source": [
    "r = 5*(10**4)\n",
    "pseudoprimos_2_p2(r)"
   ]
  }
 ],
 "metadata": {
  "kernelspec": {
   "display_name": "Python 3",
   "language": "python",
   "name": "python3"
  },
  "language_info": {
   "codemirror_mode": {
    "name": "ipython",
    "version": 3
   },
   "file_extension": ".py",
   "mimetype": "text/x-python",
   "name": "python",
   "nbconvert_exporter": "python",
   "pygments_lexer": "ipython3",
   "version": "3.5.2"
  }
 },
 "nbformat": 4,
 "nbformat_minor": 2
}
