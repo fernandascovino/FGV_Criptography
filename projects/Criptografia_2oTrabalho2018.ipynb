{
 "cells": [
  {
   "cell_type": "markdown",
   "metadata": {},
   "source": [
    "## Primeiro Trabalho Computacional: Álgebra, Números e Criptografia 2018\n",
    "\n",
    "### Alifer Sales e Fernanda Scovino\n",
    "\n",
    "**Data: 04/12/18**\n",
    "\n",
    "\n",
    "Implementação do teste de Miller-Rabin para geração de números primos grandes.\n",
    "\n",
    "---\n",
    "\n",
    "### Teste de primalidade Miller-Rabin\n",
    "\n",
    "Teste proposto por G.L. Miller em 1976. O teste avalia se um número $n$ é primo tomando por base o teorema de Fermat:\n",
    "\n",
    "Seja $n$ um número primo e $a$ um número inteiro escolhido aleatoriamente, tal que $1 < b <n-1$. Seja $k=\\max\\{r\\in \\mathbb {N} : 2^{r}\\mid (n-1)\\}$ e $q = \\frac{(n-1)}{2^{k}}$. Por definição de $s$, $d$ é necessariamente ímpar.\n",
    "\n",
    "Sabemos, pelo pequeno teorema de Fermat, que se $n$ é um número primo e $mdc(b, n) = 1$, então $a^{n-1} \\equiv b^{2^{k}q}\\equiv 1\\mod n$. \n",
    "\n",
    "Seja $j \\geq 1$ o menor expoente tal que $b^{2^{j}q}\\equiv 1\\mod n$, logo $b^{2^{j}q}\\equiv (b^{2^{j-1}q}-1)(b{2^{j-1}q}+1) \\equiv 1\\mod n$ e n divide b{2^{j-1}q}+1, pois $j$ é o menor expoente tal que $b^{2^{j}q}\\equiv 1\\mod n$, pu seja,   $b^{2^{j-1}q}\\equiv -1\\mod n$.\n",
    "\n",
    "Então, se n é primo, existe um $r\\in \\{0,1,\\cdots ,k-1\\}$ tal que $a^{2^{r}d}\\equiv -1\\mod n$. No caso de $j=0$, pode ser também que $b^{q}\\equiv 1 \\mod n$.\n",
    "\n",
    "\n",
    "**Resumo**\n",
    "\n",
    "* Das amostras geradas, o número de primos classificados errados em cada não ultrapassa 2,6%, somando menos de 2,2% % do total\n",
    "\n",
    "**Fontes**\n",
    "\n",
    "[1] *Números Inteiros e Criptografia RSA* — S. C. Coutinho\n",
    "\n",
    "[2] [*How to generate big prime numbers — Miller-Rabin*. Antoine Prudhomme](https://medium.com/@prudywsh/how-to-generate-big-prime-numbers-miller-rabin-49e6e6af32fb)\n",
    "\n",
    "[3] [*Teste de primalidade de Miller-Rabin*. Wikipédia](https://pt.wikipedia.org/wiki/Teste_de_primalidade_de_Miller-Rabin)"
   ]
  },
  {
   "cell_type": "markdown",
   "metadata": {},
   "source": [
    "#### Pacotes auxiliares"
   ]
  },
  {
   "cell_type": "code",
   "execution_count": 1,
   "metadata": {},
   "outputs": [],
   "source": [
    "import matplotlib.pyplot as plt\n",
    "import numpy as np\n",
    "from pandas import DataFrame\n",
    "from itertools import combinations\n",
    "import random"
   ]
  },
  {
   "cell_type": "markdown",
   "metadata": {},
   "source": [
    "#### Implementação"
   ]
  },
  {
   "cell_type": "code",
   "execution_count": 15,
   "metadata": {},
   "outputs": [],
   "source": [
    "def checa_primo(n, verbose):\n",
    "    \n",
    "    \"\"\"\n",
    "    Verifica o teste de primalidade de Miller.\n",
    "    \n",
    "    :param n: número candidato a primo\n",
    "    :param verbose: booleano para exibição dos prints\n",
    "    \"\"\"\n",
    "    \n",
    "    # Fazemos os testes triviais\n",
    "    if (n % 2 == 0) or (n % 3 == 0):\n",
    "        \n",
    "        if verbose:\n",
    "            print('O último número testado é composto...')\n",
    "        return False\n",
    "    \n",
    "    # Escolhemos k (número máximo de testes)\n",
    "    q = n-1\n",
    "    k = 0\n",
    "    \n",
    "    while q % 2 == 0:\n",
    "        \n",
    "        q = int(q/2)\n",
    "        k +=1\n",
    "    \n",
    "    # Verificamos se n tem alta probabilidade de ser primo\n",
    "    for i in range(k):\n",
    "    \n",
    "        b = np.random.randint(2, n - 1)\n",
    "        r = pow(b, q, n)\n",
    "        \n",
    "        if (r != 1) and (r != n - 1):\n",
    "            \n",
    "            j = 1\n",
    "            while (j < k) and (r != n - 1):\n",
    "                \n",
    "                # elevamos ao quadrado a potência\n",
    "                r = pow(r, 2, n)\n",
    "                \n",
    "                if (r == 1):\n",
    "                    \n",
    "                    if verbose:\n",
    "                        print('O último número testado é composto...')\n",
    "                    return False\n",
    "                \n",
    "                j += 1\n",
    "            \n",
    "            if (r != n - 1):\n",
    "                \n",
    "                if verbose:\n",
    "                    print('O último número testado é composto...')\n",
    "                return False\n",
    "    \n",
    "    if verbose:\n",
    "        print('O número tem altas chances de ser primo!')\n",
    "    return True\n",
    "\n",
    "def teste_Miller(t, verbose=True):\n",
    "    \n",
    "    \"\"\"\n",
    "    Gera um número primo.\n",
    "    \n",
    "    :param t: número de testes a ser realizado\n",
    "    :param verbose: booleano para exibição dos prints\n",
    "    \"\"\"\n",
    "    \n",
    "    if verbose:\n",
    "        print('>>> Iniciando Teste 1...')\n",
    "    \n",
    "    # Geramos um candidato a primo grande\n",
    "    n = np.random.randint(10**10, 10**12)\n",
    "    \n",
    "    i = 1\n",
    "    while (not checa_primo(n, verbose)) and (i < t):\n",
    "        \n",
    "        if verbose:\n",
    "            print('>>> Teste {} \\n Candidato a primo: {}'.format(i, n))\n",
    "        n = np.random.randint(10**10, 10**12)\n",
    "        i += 1\n",
    "    \n",
    "    if i <= t:\n",
    "        \n",
    "        return n"
   ]
  },
  {
   "cell_type": "code",
   "execution_count": 16,
   "metadata": {
    "scrolled": true
   },
   "outputs": [
    {
     "name": "stdout",
     "output_type": "stream",
     "text": [
      ">>> Iniciando Teste 1...\n",
      "O último número testado é composto...\n",
      ">>> Teste 1 \n",
      " Candidato a primo: 399638026734\n",
      "O último número testado é composto...\n",
      ">>> Teste 2 \n",
      " Candidato a primo: 195716752519\n",
      "O último número testado é composto...\n",
      ">>> Teste 3 \n",
      " Candidato a primo: 981271346145\n",
      "O último número testado é composto...\n",
      ">>> Teste 4 \n",
      " Candidato a primo: 706621774250\n",
      "O último número testado é composto...\n",
      ">>> Teste 5 \n",
      " Candidato a primo: 139429199437\n",
      "O último número testado é composto...\n",
      ">>> Teste 6 \n",
      " Candidato a primo: 113836711913\n",
      "O último número testado é composto...\n",
      ">>> Teste 7 \n",
      " Candidato a primo: 393402269908\n",
      "O último número testado é composto...\n",
      ">>> Teste 8 \n",
      " Candidato a primo: 330749653760\n",
      "O último número testado é composto...\n",
      ">>> Teste 9 \n",
      " Candidato a primo: 854654764263\n",
      "O último número testado é composto...\n",
      ">>> Teste 10 \n",
      " Candidato a primo: 815089848663\n",
      "O último número testado é composto...\n",
      ">>> Teste 11 \n",
      " Candidato a primo: 987923881098\n",
      "O último número testado é composto...\n",
      ">>> Teste 12 \n",
      " Candidato a primo: 879053720020\n",
      "O último número testado é composto...\n",
      ">>> Teste 13 \n",
      " Candidato a primo: 601363971282\n",
      "O último número testado é composto...\n",
      ">>> Teste 14 \n",
      " Candidato a primo: 992382060392\n",
      "O último número testado é composto...\n",
      ">>> Teste 15 \n",
      " Candidato a primo: 626316648869\n",
      "O último número testado é composto...\n",
      ">>> Teste 16 \n",
      " Candidato a primo: 184713852789\n",
      "O último número testado é composto...\n",
      ">>> Teste 17 \n",
      " Candidato a primo: 818435488535\n",
      "O último número testado é composto...\n",
      ">>> Teste 18 \n",
      " Candidato a primo: 79373733472\n",
      "O último número testado é composto...\n",
      ">>> Teste 19 \n",
      " Candidato a primo: 977836960546\n",
      "O último número testado é composto...\n",
      ">>> Teste 20 \n",
      " Candidato a primo: 408242354836\n",
      "O último número testado é composto...\n",
      ">>> Teste 21 \n",
      " Candidato a primo: 479752220924\n",
      "O último número testado é composto...\n",
      ">>> Teste 22 \n",
      " Candidato a primo: 339783847864\n",
      "O último número testado é composto...\n",
      ">>> Teste 23 \n",
      " Candidato a primo: 308174145579\n",
      "O último número testado é composto...\n",
      ">>> Teste 24 \n",
      " Candidato a primo: 517876224292\n",
      "O último número testado é composto...\n",
      ">>> Teste 25 \n",
      " Candidato a primo: 377684999616\n",
      "O último número testado é composto...\n",
      ">>> Teste 26 \n",
      " Candidato a primo: 127316224965\n",
      "O último número testado é composto...\n",
      ">>> Teste 27 \n",
      " Candidato a primo: 210728548764\n",
      "O último número testado é composto...\n",
      ">>> Teste 28 \n",
      " Candidato a primo: 46671591222\n",
      "O último número testado é composto...\n",
      ">>> Teste 29 \n",
      " Candidato a primo: 10720449467\n",
      "O último número testado é composto...\n",
      ">>> Teste 30 \n",
      " Candidato a primo: 332556784906\n",
      "O último número testado é composto...\n",
      ">>> Teste 31 \n",
      " Candidato a primo: 510838150375\n",
      "O último número testado é composto...\n",
      ">>> Teste 32 \n",
      " Candidato a primo: 987680444036\n",
      "O último número testado é composto...\n",
      ">>> Teste 33 \n",
      " Candidato a primo: 573373328809\n",
      "O último número testado é composto...\n",
      ">>> Teste 34 \n",
      " Candidato a primo: 304171799418\n",
      "O último número testado é composto...\n",
      ">>> Teste 35 \n",
      " Candidato a primo: 294191493054\n",
      "O último número testado é composto...\n",
      ">>> Teste 36 \n",
      " Candidato a primo: 806299599063\n",
      "O último número testado é composto...\n",
      ">>> Teste 37 \n",
      " Candidato a primo: 153052161323\n",
      "O último número testado é composto...\n",
      ">>> Teste 38 \n",
      " Candidato a primo: 440965163226\n",
      "O último número testado é composto...\n",
      ">>> Teste 39 \n",
      " Candidato a primo: 982013272883\n",
      "O último número testado é composto...\n",
      ">>> Teste 40 \n",
      " Candidato a primo: 156729842852\n",
      "O último número testado é composto...\n",
      ">>> Teste 41 \n",
      " Candidato a primo: 515959138289\n",
      "O último número testado é composto...\n",
      ">>> Teste 42 \n",
      " Candidato a primo: 450233483085\n",
      "O último número testado é composto...\n",
      ">>> Teste 43 \n",
      " Candidato a primo: 537685282782\n",
      "O último número testado é composto...\n",
      ">>> Teste 44 \n",
      " Candidato a primo: 481526844323\n",
      "O último número testado é composto...\n",
      ">>> Teste 45 \n",
      " Candidato a primo: 344568211582\n",
      "O último número testado é composto...\n",
      ">>> Teste 46 \n",
      " Candidato a primo: 298276197245\n",
      "O número tem altas chances de ser primo!\n"
     ]
    },
    {
     "data": {
      "text/plain": [
       "739156430063"
      ]
     },
     "execution_count": 16,
     "metadata": {},
     "output_type": "execute_result"
    }
   ],
   "source": [
    "p = teste_Miller(100)\n",
    "p"
   ]
  },
  {
   "cell_type": "markdown",
   "metadata": {},
   "source": [
    "#### Resultados"
   ]
  },
  {
   "cell_type": "markdown",
   "metadata": {},
   "source": [
    "Para verificar se o número é efetivamente primo, podemos importar o módulo `simpy.is_prime`."
   ]
  },
  {
   "cell_type": "code",
   "execution_count": 17,
   "metadata": {},
   "outputs": [
    {
     "data": {
      "text/plain": [
       "True"
      ]
     },
     "execution_count": 17,
     "metadata": {},
     "output_type": "execute_result"
    }
   ],
   "source": [
    "import sympy as sp\n",
    "\n",
    "sp.isprime(p)"
   ]
  },
  {
   "cell_type": "markdown",
   "metadata": {},
   "source": [
    "E vamos gerar $100$ amostras com $5000$ números classificados como primos para verificarmos a eficácia do algoritmo."
   ]
  },
  {
   "cell_type": "code",
   "execution_count": 48,
   "metadata": {},
   "outputs": [
    {
     "name": "stdout",
     "output_type": "stream",
     "text": [
      "CPU times: user 1min 38s, sys: 288 ms, total: 1min 38s\n",
      "Wall time: 1min 38s\n"
     ]
    }
   ],
   "source": [
    "%%time\n",
    "\n",
    "amostras = 50\n",
    "tamanho = 5000\n",
    "\n",
    "erros = []\n",
    "for _ in range(amostras):\n",
    "\n",
    "    primos = np.array([teste_Miller(100, verbose=False) for i in range(tamanho)])\n",
    "    result = np.array(list(map(lambda x: sp.isprime(x), primos)))\n",
    "    \n",
    "    erro = (len(result) - sum(result))/len(result)\n",
    "    erros.append(erro)"
   ]
  },
  {
   "cell_type": "code",
   "execution_count": 49,
   "metadata": {},
   "outputs": [
    {
     "data": {
      "text/plain": [
       "[<matplotlib.lines.Line2D at 0x7f9faac48400>]"
      ]
     },
     "execution_count": 49,
     "metadata": {},
     "output_type": "execute_result"
    },
    {
     "data": {
      "image/png": "[encoded data removed]",
      "text/plain": [
       "<Figure size 432x288 with 1 Axes>"
      ]
     },
     "metadata": {},
     "output_type": "display_data"
    }
   ],
   "source": [
    "plt.plot(erros)"
   ]
  },
  {
   "cell_type": "code",
   "execution_count": 52,
   "metadata": {},
   "outputs": [
    {
     "data": {
      "text/plain": [
       "0.0266"
      ]
     },
     "execution_count": 52,
     "metadata": {},
     "output_type": "execute_result"
    }
   ],
   "source": [
    "e_max = max(erros)\n",
    "e_max"
   ]
  },
  {
   "cell_type": "markdown",
   "metadata": {},
   "source": [
    "Verificamos que, das amostras geradas, o número de primos classificados errados em cada não ultrapassa 2,6%."
   ]
  },
  {
   "cell_type": "code",
   "execution_count": 58,
   "metadata": {},
   "outputs": [
    {
     "data": {
      "text/plain": [
       "0.021748"
      ]
     },
     "execution_count": 58,
     "metadata": {},
     "output_type": "execute_result"
    }
   ],
   "source": [
    "e_geral = sum(erros)*tamanho/(amostras*tamanho)\n",
    "e_geral"
   ]
  },
  {
   "cell_type": "markdown",
   "metadata": {},
   "source": [
    "E o erro geral (razão do número de classificados errados pelo total de números, somando todas as amostras) menor que 2,2%"
   ]
  }
 ],
 "metadata": {
  "kernelspec": {
   "display_name": "Python 3",
   "language": "python",
   "name": "python3"
  },
  "language_info": {
   "codemirror_mode": {
    "name": "ipython",
    "version": 3
   },
   "file_extension": ".py",
   "mimetype": "text/x-python",
   "name": "python",
   "nbconvert_exporter": "python",
   "pygments_lexer": "ipython3",
   "version": "3.5.2"
  }
 },
 "nbformat": 4,
 "nbformat_minor": 2
}
